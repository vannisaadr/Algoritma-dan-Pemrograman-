{
  "nbformat": 4,
  "nbformat_minor": 0,
  "metadata": {
    "colab": {
      "provenance": []
    },
    "kernelspec": {
      "name": "python3",
      "display_name": "Python 3"
    },
    "language_info": {
      "name": "python"
    }
  },
  "cells": [
    {
      "cell_type": "markdown",
      "source": [
        "Praktikum 01 - If Sederhana"
      ],
      "metadata": {
        "id": "v0raKYvIbnVg"
      }
    },
    {
      "cell_type": "code",
      "execution_count": null,
      "metadata": {
        "id": "HSr_SPP0bTpC"
      },
      "outputs": [],
      "source": [
        "# kode untuk praktikum 01"
      ]
    },
    {
      "cell_type": "code",
      "source": [
        "nilai = int(input(\"Masukan nilai ujian: \"))\n",
        "if nilai >= 60:\n",
        "  print(\"Anda Lulus\")"
      ],
      "metadata": {
        "colab": {
          "base_uri": "https://localhost:8080/"
        },
        "id": "WmmXHqyCcswA",
        "outputId": "fe7a0eb3-14dd-4512-c3bd-6a275a0214de"
      },
      "execution_count": null,
      "outputs": [
        {
          "output_type": "stream",
          "name": "stdout",
          "text": [
            "Masukan nilai ujian: 70\n",
            "Anda Lulus\n"
          ]
        }
      ]
    },
    {
      "cell_type": "markdown",
      "source": [
        "Praktikum 02 - If Else"
      ],
      "metadata": {
        "id": "1trrgjpyeBne"
      }
    },
    {
      "cell_type": "code",
      "source": [
        "# kode untuk praktikum 02"
      ],
      "metadata": {
        "id": "J8BrZu-meBMQ"
      },
      "execution_count": null,
      "outputs": []
    },
    {
      "cell_type": "code",
      "source": [
        "nilai = int(input(\"Masukan nilai ujian: \"))\n",
        "if nilai >=60:\n",
        "  print(\"Anda LULUS\")\n",
        "else:\n",
        "  print(\"Anda TIDAK LULUS\")"
      ],
      "metadata": {
        "colab": {
          "base_uri": "https://localhost:8080/"
        },
        "id": "v9HrBYBEeLeP",
        "outputId": "1bf581b8-a498-40e5-8976-e81b03aa0263"
      },
      "execution_count": null,
      "outputs": [
        {
          "output_type": "stream",
          "name": "stdout",
          "text": [
            "Masukan nilai ujian: 50\n",
            "Anda TIDAK LULUS\n"
          ]
        }
      ]
    },
    {
      "cell_type": "markdown",
      "source": [
        "Praktikum 03 - If-Elif-Else"
      ],
      "metadata": {
        "id": "Zy38yFvsejtG"
      }
    },
    {
      "cell_type": "code",
      "source": [
        "# kode untuk praktikum 03"
      ],
      "metadata": {
        "id": "I2b2V9W3esR-"
      },
      "execution_count": null,
      "outputs": []
    },
    {
      "cell_type": "code",
      "source": [
        "nilai = int(input(\"Masukan nilai akhir: \"))\n",
        "\n",
        "if nilai >= 85:\n",
        "  grade = \"A\"\n",
        "elif nilai >= 70:\n",
        "  grade = \"B\"\n",
        "elif nilai >= 55:\n",
        "  grade = \"C\"\n",
        "elif nilai >= 40:\n",
        "  grade = \"D\"\n",
        "else:\n",
        "  grade = \"E\"\n",
        "\n",
        "print(f\"Nilai Anda {nilai}, maka grade Anda = {grade}\")"
      ],
      "metadata": {
        "colab": {
          "base_uri": "https://localhost:8080/"
        },
        "id": "HFqSAw8Oewv_",
        "outputId": "3e840d81-432d-45b6-b31e-3c2a7881c6f2"
      },
      "execution_count": null,
      "outputs": [
        {
          "output_type": "stream",
          "name": "stdout",
          "text": [
            "Masukan nilai akhir: 78\n",
            "Nilai Anda 78, maka grade Anda = B\n"
          ]
        }
      ]
    },
    {
      "cell_type": "markdown",
      "source": [
        "Praktikum 04 - Nested If (Beasiswa)"
      ],
      "metadata": {
        "id": "IV_tCtbFfqHm"
      }
    },
    {
      "cell_type": "code",
      "source": [
        "# kode untuk praktikum 04"
      ],
      "metadata": {
        "id": "y5SsmG74f0fm"
      },
      "execution_count": null,
      "outputs": []
    },
    {
      "cell_type": "code",
      "source": [
        "ipk = float(input(\"Masukan IPK: \"))\n",
        "sks = int(input(\"Masukan jumlah SKS: \"))\n",
        "\n",
        "if ipk >= 3.0:\n",
        "  if sks >= 18:\n",
        "    print(\"Anda LAYAK mendapat beasiswa\")\n",
        "  else:\n",
        "    print(\"IPK memenuhi, tapi SKS kurang\")\n",
        "else:\n",
        "  print(\"Anda TIDAK layak mendapat beasiswa\")"
      ],
      "metadata": {
        "colab": {
          "base_uri": "https://localhost:8080/"
        },
        "id": "DOsstK7Sf5N2",
        "outputId": "35ad28bf-5f5f-40dd-8c5c-1285f8d9dbc3"
      },
      "execution_count": null,
      "outputs": [
        {
          "output_type": "stream",
          "name": "stdout",
          "text": [
            "Masukan IPK: 2.8\n",
            "Masukan jumlah SKS: 20\n",
            "Anda TIDAK layak mendapat beasiswa\n"
          ]
        }
      ]
    },
    {
      "cell_type": "markdown",
      "source": [
        "Praktikum 05 - Match Case"
      ],
      "metadata": {
        "id": "-wa5tKJbiTQG"
      }
    },
    {
      "cell_type": "code",
      "source": [
        "# kode untuk praktikum 05"
      ],
      "metadata": {
        "id": "GjMWQ2UIiX7P"
      },
      "execution_count": null,
      "outputs": []
    },
    {
      "cell_type": "code",
      "source": [
        "menu = int(input(\"Pilih menu (1-3): \"))\n",
        "\n",
        "match menu:\n",
        "  case 1:\n",
        "    print(\"Anda memilih Nasi Goreng\")\n",
        "  case 2:\n",
        "    print(\"Anda memilih Mie Ayam\")\n",
        "  case 3:\n",
        "    print(\"Anda memilih Soto Ayam\")\n",
        "  case _:\n",
        "    print (\"Menu tidak tersedia\")"
      ],
      "metadata": {
        "colab": {
          "base_uri": "https://localhost:8080/"
        },
        "id": "a9FOiZCIibaF",
        "outputId": "1688d58c-8cd2-4131-fc6b-90406d9c9eac"
      },
      "execution_count": 1,
      "outputs": [
        {
          "output_type": "stream",
          "name": "stdout",
          "text": [
            "Pilih menu (1-3): 2\n",
            "Anda memilih Mie Ayam\n"
          ]
        }
      ]
    },
    {
      "cell_type": "markdown",
      "source": [
        "Praktikum 06 - Program Kasir"
      ],
      "metadata": {
        "id": "egbYpXDnjpQV"
      }
    },
    {
      "cell_type": "code",
      "source": [
        "# kode untuk praktikum 06"
      ],
      "metadata": {
        "id": "alUxFwfHjwEW"
      },
      "execution_count": null,
      "outputs": []
    },
    {
      "cell_type": "code",
      "source": [
        "barang = input(\"Masukan nama barang: \")\n",
        "harga = float(input(\"Masukan harga barang: \"))\n",
        "jumlah = int(input(\"Masukan jumlah barang: \"))\n",
        "\n",
        "total = harga * jumlah\n",
        "\n",
        "if total >= 500000:\n",
        "  diskon = 0.2\n",
        "elif total >= 250000:\n",
        "  diskon = 0.1\n",
        "else:\n",
        "  diskon = 0\n",
        "\n",
        "bayar = total - (total * diskon)\n",
        "\n",
        "print(\"\\n===== Struk Belanja =====\")\n",
        "print(f\"Barang : {barang}\")\n",
        "print(f\"Jumlah : {jumlah}\")\n",
        "print(f\"Total : Rp {total}\")\n",
        "print(f\"Diskon : {diskon*100}%\")\n",
        "print(f\"Bayar : Rp {bayar}\")"
      ],
      "metadata": {
        "colab": {
          "base_uri": "https://localhost:8080/"
        },
        "id": "Qz2QQDa_jy7e",
        "outputId": "0e5ea107-760c-40c6-fc70-ef7848c23bf5"
      },
      "execution_count": null,
      "outputs": [
        {
          "output_type": "stream",
          "name": "stdout",
          "text": [
            "Masukan nama barang: Pulpen\n",
            "Masukan harga barang: 5000\n",
            "Masukan jumlah barang: 10\n",
            "\n",
            "===== Struk Belanja =====\n",
            "Barang : Pulpen\n",
            "Jumlah : 10\n",
            "Total : Rp 50000.0\n",
            "Diskon : 0%\n",
            "Bayar : Rp 50000.0\n"
          ]
        }
      ]
    },
    {
      "cell_type": "markdown",
      "source": [
        "Tugas Cek Bilangan Positif/Negatif/Nol"
      ],
      "metadata": {
        "id": "PAkANVaH7SFj"
      }
    },
    {
      "cell_type": "code",
      "source": [
        "# kode untuk tugas cek bilangan positif/negatif/nol"
      ],
      "metadata": {
        "id": "a2gih8DO7YvC"
      },
      "execution_count": null,
      "outputs": []
    },
    {
      "cell_type": "code",
      "source": [
        "bilangan = int(input(\"Masukkan bilangan: \"))\n",
        "\n",
        "if bilangan > 0:\n",
        "  print(\"Bilangan positif\")\n",
        "elif  bilangan < 0:\n",
        "  print(\"Bilangan negatif\")\n",
        "else:\n",
        "  print(\"Bilangan nol\")"
      ],
      "metadata": {
        "colab": {
          "base_uri": "https://localhost:8080/"
        },
        "id": "XNL31eZb7h_N",
        "outputId": "a3fd6f9e-de75-40fc-92f4-2489ae5f7428"
      },
      "execution_count": null,
      "outputs": [
        {
          "output_type": "stream",
          "name": "stdout",
          "text": [
            "Masukkan bilangan: 0\n",
            "Bilangan nol\n"
          ]
        }
      ]
    },
    {
      "cell_type": "markdown",
      "source": [
        "Tugas Menentukan Kategori Usia"
      ],
      "metadata": {
        "id": "RCOmipPA9ylu"
      }
    },
    {
      "cell_type": "code",
      "source": [
        "# kode untuk tugas menentukan kategori usia"
      ],
      "metadata": {
        "id": "n1h5Ft9W925k"
      },
      "execution_count": null,
      "outputs": []
    },
    {
      "cell_type": "code",
      "source": [
        "umur = int(input(\"Masukan umur Anda: \"))\n",
        "\n",
        "if umur < 5:\n",
        "  print(\"Kategori: Balita\")\n",
        "elif umur <= 11:\n",
        "  print(\"Kategori: Anak-Anak\")\n",
        "elif umur <= 17:\n",
        "  print(\"Kategori: Remaja\")\n",
        "elif umur <= 59:\n",
        "  print(\"Kategori: Dewasa\")\n",
        "else:\n",
        "  print(\"Kategori: Lansia\")"
      ],
      "metadata": {
        "colab": {
          "base_uri": "https://localhost:8080/"
        },
        "id": "8E7ti7YQ96qC",
        "outputId": "c861d9e1-70f3-49b5-ad3c-f684e4ff94a6"
      },
      "execution_count": null,
      "outputs": [
        {
          "output_type": "stream",
          "name": "stdout",
          "text": [
            "Masukan umur Anda: 60\n",
            "Kategori: Lansia\n"
          ]
        }
      ]
    },
    {
      "cell_type": "markdown",
      "source": [
        "Tugas Hitung Tarif Parkir"
      ],
      "metadata": {
        "id": "MYn-JrQACJ_a"
      }
    },
    {
      "cell_type": "code",
      "source": [
        "# kode untuk tugas hitung tarif parkir"
      ],
      "metadata": {
        "id": "W02Pnoc0COEK"
      },
      "execution_count": null,
      "outputs": []
    },
    {
      "cell_type": "code",
      "source": [
        "jam = int(input(\"Masukan lama parkir (jam): \"))\n",
        "\n",
        "if jam <= 2:\n",
        "  tarif = 5000\n",
        "elif jam > 2 and jam <= 9:\n",
        "  tarif = 5000 + (jam - 2) * 2000\n",
        "else:\n",
        "  tarif = 20000\n",
        "\n",
        "print(\"Total tarif parkir: Rp\", tarif)"
      ],
      "metadata": {
        "colab": {
          "base_uri": "https://localhost:8080/"
        },
        "id": "kikVTOMtCS1Y",
        "outputId": "65a49fb2-e515-4ed5-ba98-1ee6f5a53f05"
      },
      "execution_count": null,
      "outputs": [
        {
          "output_type": "stream",
          "name": "stdout",
          "text": [
            "Masukan lama parkir (jam): 10\n",
            "Total tarif parkir: Rp 20000\n"
          ]
        }
      ]
    },
    {
      "cell_type": "markdown",
      "source": [
        "Tugas Cek Login Sederhana"
      ],
      "metadata": {
        "id": "UbERAv_bIViA"
      }
    },
    {
      "cell_type": "code",
      "source": [
        "# kode untuk cek login sederhana"
      ],
      "metadata": {
        "id": "fzX2gqzBIZMe"
      },
      "execution_count": null,
      "outputs": []
    },
    {
      "cell_type": "code",
      "source": [
        "username = input(\"Masukkan username: \")\n",
        "password = input(\"Masukkan password: \")\n",
        "\n",
        "if username == \"admin\" and password == \"1234\":\n",
        "  print(\"Login berhasil\")\n",
        "else:\n",
        "  print(\"Login gagal\")"
      ],
      "metadata": {
        "colab": {
          "base_uri": "https://localhost:8080/"
        },
        "id": "50DCUK3IIcvA",
        "outputId": "0cac9284-53aa-41ac-df0c-7498d34fb87b"
      },
      "execution_count": null,
      "outputs": [
        {
          "output_type": "stream",
          "name": "stdout",
          "text": [
            "Masukkan username: admin\n",
            "Masukkan password: 12\n",
            "Login gagal\n"
          ]
        }
      ]
    },
    {
      "cell_type": "markdown",
      "source": [
        "Tugas Cek Genap/Ganjil"
      ],
      "metadata": {
        "id": "VWn0FiglRnnl"
      }
    },
    {
      "cell_type": "code",
      "source": [
        "# kode untuk tugas cek genap/ganjil"
      ],
      "metadata": {
        "id": "ClgyjUBiRtt1"
      },
      "execution_count": null,
      "outputs": []
    },
    {
      "cell_type": "code",
      "source": [
        "bilangan = int(input(\"Masukkan bilangan: \"))\n",
        "hasil = \"Genap\" if bilangan % 2 == 0 else \"Ganjil\"\n",
        "print(f\"Bilangan {bilangan} adalah {hasil}\")"
      ],
      "metadata": {
        "colab": {
          "base_uri": "https://localhost:8080/"
        },
        "id": "q-BmX41vRxK0",
        "outputId": "ca4de26f-5c35-4bcf-fff4-cf2db1872556"
      },
      "execution_count": null,
      "outputs": [
        {
          "output_type": "stream",
          "name": "stdout",
          "text": [
            "Masukkan bilangan: 5\n",
            "Bilangan 5 adalah Ganjil\n"
          ]
        }
      ]
    },
    {
      "cell_type": "markdown",
      "source": [
        "Tugas Menu Restoran"
      ],
      "metadata": {
        "id": "L6FctTr_T-tr"
      }
    },
    {
      "cell_type": "code",
      "source": [
        "# kode untuk tugas menu retoran"
      ],
      "metadata": {
        "id": "AktHkdlOUEqL"
      },
      "execution_count": null,
      "outputs": []
    },
    {
      "cell_type": "code",
      "source": [
        "menu = int(input(\"Pilih menu (1-3): \"))\n",
        "\n",
        "match menu:\n",
        "  case 1:\n",
        "    print(\"Anda memilih Nasi Goreng\")\n",
        "  case 2:\n",
        "    print(\"Anda memilih Mie Ayam\")\n",
        "  case 3:\n",
        "    print(\"Anda memilih Soto Ayam\")\n",
        "  case _:\n",
        "    print (\"Menu tidak tersedia\")"
      ],
      "metadata": {
        "colab": {
          "base_uri": "https://localhost:8080/"
        },
        "id": "ADaOD8tUULP7",
        "outputId": "95f44179-b3da-4cbf-ecc8-2b2f990b85f5"
      },
      "execution_count": null,
      "outputs": [
        {
          "output_type": "stream",
          "name": "stdout",
          "text": [
            "Pilih menu (1-3): 4\n",
            "Menu tidak tersedia\n"
          ]
        }
      ]
    },
    {
      "cell_type": "markdown",
      "source": [
        "Tugas Program Penentuan Diskon"
      ],
      "metadata": {
        "id": "RpB7Kf7VVkKD"
      }
    },
    {
      "cell_type": "code",
      "source": [
        "# kode untuk program penentuan diskon"
      ],
      "metadata": {
        "id": "l6ITz8jtVjxz"
      },
      "execution_count": null,
      "outputs": []
    },
    {
      "cell_type": "code",
      "source": [
        "barang = input(\"Masukan nama barang: \")\n",
        "harga = float(input(\"Masukan harga barang: \"))\n",
        "jumlah = int(input(\"Masukan jumlah barang: \"))\n",
        "\n",
        "total = harga * jumlah\n",
        "\n",
        "if total >= 500000:\n",
        "  diskon = 0.2\n",
        "elif total >= 250000:\n",
        "  diskon = 0.1\n",
        "else:\n",
        "  diskon = 0\n",
        "\n",
        "bayar = total - (total * diskon)\n",
        "\n",
        "print(\"\\n===== Struk Belanja =====\")\n",
        "print(f\"Barang : {barang}\")\n",
        "print(f\"Jumlah : {jumlah}\")\n",
        "print(f\"Total  : Rp {total}\")\n",
        "print(f\"Diskon : {diskon*100}%\")\n",
        "print(f\"Bayar  : Rp {bayar}\")"
      ],
      "metadata": {
        "colab": {
          "base_uri": "https://localhost:8080/"
        },
        "id": "C5hO5Vh4Vr9y",
        "outputId": "c6242ffd-553e-48bf-fc6a-a7ccb380b080"
      },
      "execution_count": 4,
      "outputs": [
        {
          "output_type": "stream",
          "name": "stdout",
          "text": [
            "Masukan nama barang: Tas\n",
            "Masukan harga barang: 75000\n",
            "Masukan jumlah barang: 3\n",
            "\n",
            "===== Struk Belanja =====\n",
            "Barang : Tas\n",
            "Jumlah : 3\n",
            "Total  : Rp 225000.0\n",
            "Diskon : 0%\n",
            "Bayar  : Rp 225000.0\n"
          ]
        }
      ]
    }
  ]
}