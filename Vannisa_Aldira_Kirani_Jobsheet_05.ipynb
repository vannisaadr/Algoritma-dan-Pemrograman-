{
  "nbformat": 4,
  "nbformat_minor": 0,
  "metadata": {
    "colab": {
      "provenance": []
    },
    "kernelspec": {
      "name": "python3",
      "display_name": "Python 3"
    },
    "language_info": {
      "name": "python"
    }
  },
  "cells": [
    {
      "cell_type": "markdown",
      "source": [
        "Praktikum 01 - Indexing dan Slicing"
      ],
      "metadata": {
        "id": "SJ2ns97mzb2y"
      }
    },
    {
      "cell_type": "code",
      "execution_count": null,
      "metadata": {
        "id": "dXiQFw0-zYtf"
      },
      "outputs": [],
      "source": [
        "# kode untuk praktikum 01"
      ]
    },
    {
      "cell_type": "code",
      "source": [
        "teks = \"Politeknik Negeri Semarang\"\n",
        "print(teks[0])\n",
        "print(teks[0:11])\n",
        "print(teks[-8:])"
      ],
      "metadata": {
        "colab": {
          "base_uri": "https://localhost:8080/"
        },
        "id": "UaZJ4qqD0ScB",
        "outputId": "a921d7fa-08a9-4260-de26-399db0d90142"
      },
      "execution_count": null,
      "outputs": [
        {
          "output_type": "stream",
          "name": "stdout",
          "text": [
            "P\n",
            "Politeknik \n",
            "Semarang\n"
          ]
        }
      ]
    },
    {
      "cell_type": "markdown",
      "source": [
        "Praktikum 02 - Method Bawaan String"
      ],
      "metadata": {
        "id": "m11LOZCz04xK"
      }
    },
    {
      "cell_type": "code",
      "source": [
        "# kode untuk praktikum 02"
      ],
      "metadata": {
        "id": "hLYQOf6z09kk"
      },
      "execution_count": null,
      "outputs": []
    },
    {
      "cell_type": "code",
      "source": [
        "teks = \" Politeknik Negeri Semarang \"\n",
        "print(teks.upper())\n",
        "print(teks.lower())\n",
        "print(teks.title())\n",
        "print(teks.strip())\n",
        "print(teks.split(\" \"))\n",
        "print(\"-\".join([\"Politeknik\",\"Negeri\",\"Semarang\"]))\n"
      ],
      "metadata": {
        "colab": {
          "base_uri": "https://localhost:8080/"
        },
        "id": "9h0K_fLR1ArK",
        "outputId": "927353f0-0672-4d21-9e56-14ccd5d407fc"
      },
      "execution_count": null,
      "outputs": [
        {
          "output_type": "stream",
          "name": "stdout",
          "text": [
            " POLITEKNIK NEGERI SEMARANG \n",
            " politeknik negeri semarang \n",
            " Politeknik Negeri Semarang \n",
            "Politeknik Negeri Semarang\n",
            "['', 'Politeknik', 'Negeri', 'Semarang', '']\n",
            "Politeknik-Negeri-Semarang\n"
          ]
        }
      ]
    },
    {
      "cell_type": "markdown",
      "source": [
        "Praktikum 03 - Validasi Password"
      ],
      "metadata": {
        "id": "loB5iCFX2HFw"
      }
    },
    {
      "cell_type": "code",
      "source": [
        "# kode untuk praktikum 03"
      ],
      "metadata": {
        "id": "NwUQX9xr2pTy"
      },
      "execution_count": null,
      "outputs": []
    },
    {
      "cell_type": "code",
      "source": [
        "password = input(\"Masukan password: \")\n",
        "\n",
        "if len(password) >=8:\n",
        "  print(\"Password valid\")\n",
        "else:\n",
        "  print(\"Password terlalu pendek\")"
      ],
      "metadata": {
        "id": "ZC8qUKVC22Nx",
        "colab": {
          "base_uri": "https://localhost:8080/"
        },
        "outputId": "361cab67-83f6-4826-a844-9f67ac44ad5b"
      },
      "execution_count": null,
      "outputs": [
        {
          "output_type": "stream",
          "name": "stdout",
          "text": [
            "Masukan password: abc\n",
            "Password terlalu pendek\n"
          ]
        }
      ]
    },
    {
      "cell_type": "markdown",
      "source": [
        "Praktikum 04 - String Formatting dengan F-String"
      ],
      "metadata": {
        "id": "WMwMsOJT3o1z"
      }
    },
    {
      "cell_type": "code",
      "source": [
        "# kode untuk praktikum 04"
      ],
      "metadata": {
        "id": "99BnhueJ3u49"
      },
      "execution_count": null,
      "outputs": []
    },
    {
      "cell_type": "code",
      "source": [
        "nama = input(\"Masukan nama: \")\n",
        "umur = int(input(\"Masukan umur: \"))\n",
        "\n",
        "print(f\"Nama saya {nama}, umur {umur} tahun.\")"
      ],
      "metadata": {
        "colab": {
          "base_uri": "https://localhost:8080/"
        },
        "id": "3OpTbVBe3xdb",
        "outputId": "b8df3273-5095-4586-f069-3c3fc701111d"
      },
      "execution_count": null,
      "outputs": [
        {
          "output_type": "stream",
          "name": "stdout",
          "text": [
            "Masukan nama: Budi\n",
            "Masukan umur: 21\n",
            "Nama saya Budi, umur 21 tahun.\n"
          ]
        }
      ]
    },
    {
      "cell_type": "markdown",
      "source": [
        "Praktikum 05 - Operasi dalam F-String"
      ],
      "metadata": {
        "id": "sRp3Lkcq4F23"
      }
    },
    {
      "cell_type": "code",
      "source": [
        "# kode untuk praktikum 05"
      ],
      "metadata": {
        "id": "wG9NFgOm4L4j"
      },
      "execution_count": null,
      "outputs": []
    },
    {
      "cell_type": "code",
      "source": [
        "a = int(input(\"Masukan nilai a: \"))\n",
        "b = int(input(\"Masukan nilai b: \"))\n",
        "\n",
        "print (f\"Hasil penjumlahan {a}+{b} = {a+b}\")\n",
        "print (f\"Hasil pembagian {a}/{b} = {a/b:.2f}\")"
      ],
      "metadata": {
        "id": "G5YecemP4O-H",
        "colab": {
          "base_uri": "https://localhost:8080/"
        },
        "outputId": "6373f3cf-d568-4645-8163-72cc74951f3d"
      },
      "execution_count": null,
      "outputs": [
        {
          "output_type": "stream",
          "name": "stdout",
          "text": [
            "Masukan nilai a: 10\n",
            "Masukan nilai b: 3\n",
            "Hasil penjumlahan 10+3 = 13\n",
            "Hasil pembagian 10/3 = 3.33\n"
          ]
        }
      ]
    },
    {
      "cell_type": "markdown",
      "source": [
        "Praktikum 06 - Casting String"
      ],
      "metadata": {
        "id": "_UDppRzt5oFf"
      }
    },
    {
      "cell_type": "code",
      "source": [
        "# kode untuk praktikum 06"
      ],
      "metadata": {
        "id": "jR4XAlJJ5I8U"
      },
      "execution_count": null,
      "outputs": []
    },
    {
      "cell_type": "code",
      "source": [
        "angka = 123\n",
        "teks = \"456\"\n",
        "\n",
        "print(\"Nilai: \" + str(angka))\n",
        "print(int(teks) + 10)"
      ],
      "metadata": {
        "id": "cNxR7bJq5w4-",
        "colab": {
          "base_uri": "https://localhost:8080/"
        },
        "outputId": "e0affb0f-7f17-4b5d-aff9-a85a9d167b59"
      },
      "execution_count": null,
      "outputs": [
        {
          "output_type": "stream",
          "name": "stdout",
          "text": [
            "Nilai: 123\n",
            "466\n"
          ]
        }
      ]
    },
    {
      "cell_type": "markdown",
      "source": [
        "Praktikum 07 - Studi Kasus Nyata: Analisis Kalimat"
      ],
      "metadata": {
        "id": "Lh8rU_rx6Cfe"
      }
    },
    {
      "cell_type": "code",
      "source": [
        "# kode untuk praktikum 07"
      ],
      "metadata": {
        "id": "zsWRqeZe6H8j"
      },
      "execution_count": null,
      "outputs": []
    },
    {
      "cell_type": "code",
      "source": [
        "kalimat = \"Saya kuliah di Politeknik Negeri Semarang\"\n",
        "daftar_kata = kalimat.split(\" \")\n",
        "\n",
        "print(f\"Jumlah kata: {len(daftar_kata)}\")\n",
        "for i, kata in enumerate(daftar_kata, start=1):\n",
        "  print(i, kata)"
      ],
      "metadata": {
        "id": "uJxrFiUu6KvD",
        "colab": {
          "base_uri": "https://localhost:8080/"
        },
        "outputId": "d52c3738-2a89-4ea7-91d1-ca8acb8e43da"
      },
      "execution_count": null,
      "outputs": [
        {
          "output_type": "stream",
          "name": "stdout",
          "text": [
            "Jumlah kata: 6\n",
            "1 Saya\n",
            "2 kuliah\n",
            "3 di\n",
            "4 Politeknik\n",
            "5 Negeri\n",
            "6 Semarang\n"
          ]
        }
      ]
    },
    {
      "cell_type": "markdown",
      "source": [
        "Tugas Indexing dan Slicing"
      ],
      "metadata": {
        "id": "Q1OOjr-jcN-M"
      }
    },
    {
      "cell_type": "code",
      "source": [
        "# kode untuk tugas indexing dan slicing"
      ],
      "metadata": {
        "id": "tr_Nlw33cQ6a"
      },
      "execution_count": null,
      "outputs": []
    },
    {
      "cell_type": "code",
      "source": [
        "teks = \"Politeknik Negeri Semarang\"\n",
        "print(teks[0])\n",
        "print(teks[-1:])\n",
        "print(teks[11:17])"
      ],
      "metadata": {
        "id": "LBJfld1LcUSy",
        "colab": {
          "base_uri": "https://localhost:8080/"
        },
        "outputId": "890ab0f7-11ea-4df0-eec6-48f78d0c300b"
      },
      "execution_count": null,
      "outputs": [
        {
          "output_type": "stream",
          "name": "stdout",
          "text": [
            "P\n",
            "g\n",
            "Negeri\n"
          ]
        }
      ]
    },
    {
      "cell_type": "markdown",
      "source": [
        "Tugas Manipulasi String"
      ],
      "metadata": {
        "id": "744dMdm-jKF7"
      }
    },
    {
      "cell_type": "code",
      "source": [
        "# kode untuk tugas manipulasi string"
      ],
      "metadata": {
        "id": "ikHGXovgjMtC"
      },
      "execution_count": null,
      "outputs": []
    },
    {
      "cell_type": "code",
      "source": [
        "teks = input(\"Masukan kalimat: \")\n",
        "panjang_kalimat = len(teks.replace(\" \", \"\"))\n",
        "\n",
        "print(teks.upper())\n",
        "print(teks.lower())\n",
        "print(f\"Panjang kalimat = {panjang_kalimat}\")"
      ],
      "metadata": {
        "colab": {
          "base_uri": "https://localhost:8080/"
        },
        "id": "WvR2__krjQTb",
        "outputId": "359c8f02-4932-4680-eaee-a4a50c36caa0"
      },
      "execution_count": null,
      "outputs": [
        {
          "output_type": "stream",
          "name": "stdout",
          "text": [
            "Masukan kalimat: Vannisa Aldira Kirani\n",
            "VANNISA ALDIRA KIRANI\n",
            "vannisa aldira kirani\n",
            "Panjang kalimat = 19\n"
          ]
        }
      ]
    },
    {
      "cell_type": "markdown",
      "source": [
        "Tugas Validasi Username"
      ],
      "metadata": {
        "id": "VMAjJ38An7QH"
      }
    },
    {
      "cell_type": "code",
      "source": [
        "# kode untuk tugas validasi username"
      ],
      "metadata": {
        "id": "qRCMgKoJn9nS"
      },
      "execution_count": null,
      "outputs": []
    },
    {
      "cell_type": "code",
      "source": [
        "username = input(\"Masukan username:\")\n",
        "\n",
        "if \" \" in username:\n",
        "  print(\"Error: Username tidak boleh mengandung spasi!\")\n",
        "else:\n",
        "  print(\"Username valid\")"
      ],
      "metadata": {
        "colab": {
          "base_uri": "https://localhost:8080/"
        },
        "id": "tq5jQVqZoA2x",
        "outputId": "aed11881-a63c-4dde-b093-ed8a32620969"
      },
      "execution_count": null,
      "outputs": [
        {
          "output_type": "stream",
          "name": "stdout",
          "text": [
            "Masukan username:vannisaadr\n",
            "Username valid\n"
          ]
        }
      ]
    },
    {
      "cell_type": "markdown",
      "source": [
        "Tugas String Formatting dengan F-String"
      ],
      "metadata": {
        "id": "b-JWdUW_rr8J"
      }
    },
    {
      "cell_type": "code",
      "source": [
        "# kode untuk tugas string formatting dengan f-string"
      ],
      "metadata": {
        "id": "Lp4CvL3tr6xa"
      },
      "execution_count": null,
      "outputs": []
    },
    {
      "cell_type": "code",
      "source": [
        "nama = \"Andi\"\n",
        "umur = 20\n",
        "jurusan = \"Teknologi Rekayasa Komputer\"\n",
        "\n",
        "print(f\"Nama: {nama}\")\n",
        "print(f\"Umur: {umur}\")\n",
        "print(f\"Jurusan: {jurusan}\")"
      ],
      "metadata": {
        "colab": {
          "base_uri": "https://localhost:8080/"
        },
        "id": "hzUvccWOr_75",
        "outputId": "5d72a95e-b992-4b58-ce29-785e496ac99a"
      },
      "execution_count": null,
      "outputs": [
        {
          "output_type": "stream",
          "name": "stdout",
          "text": [
            "Nama: Andi\n",
            "Umur: 20\n",
            "Jurusan: Teknologi Rekayasa Komputer\n"
          ]
        }
      ]
    },
    {
      "cell_type": "markdown",
      "source": [
        "Tugas Operasi dalam F-String"
      ],
      "metadata": {
        "id": "jjcKf10SvdjY"
      }
    },
    {
      "cell_type": "code",
      "source": [
        "a = int(input(\"a: \"))\n",
        "b = int(input(\"b: \"))\n",
        "\n",
        "print(\"\\n=== Hasil Operasi Hitung ====\")\n",
        "print (f\"{a}+{b} = {a+b}\")\n",
        "print(f\"{a}*{b} = {a*b}\")\n",
        "print (f\"{a}/{b} = {a/b:.3f}\")"
      ],
      "metadata": {
        "colab": {
          "base_uri": "https://localhost:8080/"
        },
        "id": "0FiFm9OIvhnp",
        "outputId": "43e40e0a-1dde-4f55-f109-cc7a85d5ade6"
      },
      "execution_count": null,
      "outputs": [
        {
          "output_type": "stream",
          "name": "stdout",
          "text": [
            "a: 10\n",
            "b: 7\n",
            "\n",
            "=== Hasil Operasi Hitung ====\n",
            "10+7 = 17\n",
            "10*7 = 70\n",
            "10/7 = 1.429\n"
          ]
        }
      ]
    },
    {
      "cell_type": "markdown",
      "source": [
        "Tugas Casting Data"
      ],
      "metadata": {
        "id": "htEyDxg1zTm2"
      }
    },
    {
      "cell_type": "code",
      "source": [
        "# kode untuk tugas casting data"
      ],
      "metadata": {
        "id": "m-C5MYvizV3p"
      },
      "execution_count": null,
      "outputs": []
    },
    {
      "cell_type": "code",
      "source": [
        "angka = str(input(\"Masukan angka: \"))\n",
        "angka_int = int(angka)\n",
        "angka_float = float(angka)\n",
        "\n",
        "print(f\"Hasil kuadrat = {angka_int ** 2}\")\n",
        "print(f\"Hasil float = {angka_float:.2f} \")"
      ],
      "metadata": {
        "colab": {
          "base_uri": "https://localhost:8080/"
        },
        "id": "GubyXhcozYJw",
        "outputId": "3dec326f-a196-47d1-e50c-346adf3d40b5"
      },
      "execution_count": null,
      "outputs": [
        {
          "output_type": "stream",
          "name": "stdout",
          "text": [
            "Masukan angka: 7\n",
            "Hasil kuadrat = 49\n",
            "Hasil float = 7.00 \n"
          ]
        }
      ]
    },
    {
      "cell_type": "markdown",
      "source": [
        "Tugas Studi Kasus - Analisis Teks"
      ],
      "metadata": {
        "id": "KaUNZudJ4YfJ"
      }
    },
    {
      "cell_type": "code",
      "source": [
        "# tugas studi kasus - analisis teks"
      ],
      "metadata": {
        "id": "DWztbTsA4hGo"
      },
      "execution_count": null,
      "outputs": []
    },
    {
      "cell_type": "code",
      "source": [
        "kalimat = input(\"Masukan kalimat: \")\n",
        "daftar_kata = kalimat.split(\" \")\n",
        "jumlah_kata = len(daftar_kata)\n",
        "kata_terpanjang = max(daftar_kata, key=len)\n",
        "kata_urut = kalimat.split()\n",
        "\n",
        "print(\"\\n=== Hasil Analisis Kalimat ===\")\n",
        "print(f\"Jumlah kata: {jumlah_kata}\")\n",
        "print(f\"Kata terpanjang: {kata_terpanjang}\")\n",
        "print(\"Daftar kata (urutan abjad):\", kata_urut)"
      ],
      "metadata": {
        "colab": {
          "base_uri": "https://localhost:8080/"
        },
        "id": "yRXsIkGi4pZ8",
        "outputId": "9cbefe3a-635c-4eff-8201-81ccedfb471d"
      },
      "execution_count": null,
      "outputs": [
        {
          "output_type": "stream",
          "name": "stdout",
          "text": [
            "Masukan kalimat: Vannisa Aldira Kirani\n",
            "\n",
            "=== Hasil Analisis Kalimat ===\n",
            "Jumlah kata: 3\n",
            "Kata terpanjang: Vannisa\n",
            "Daftar kata (urutan abjad): ['Vannisa', 'Aldira', 'Kirani']\n"
          ]
        }
      ]
    }
  ]
}