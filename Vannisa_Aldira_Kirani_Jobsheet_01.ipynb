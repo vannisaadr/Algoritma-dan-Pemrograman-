{
  "nbformat": 4,
  "nbformat_minor": 0,
  "metadata": {
    "colab": {
      "provenance": []
    },
    "kernelspec": {
      "name": "python3",
      "display_name": "Python 3"
    },
    "language_info": {
      "name": "python"
    }
  },
  "cells": [
    {
      "cell_type": "markdown",
      "source": [
        "Praktikum 01. Menghitung Luas Persegi Panjang"
      ],
      "metadata": {
        "id": "2lOrsTv-QkKO"
      }
    },
    {
      "cell_type": "code",
      "source": [
        "# kode untuk praktikum 01"
      ],
      "metadata": {
        "id": "BQjcZ9b4RtOz"
      },
      "execution_count": null,
      "outputs": []
    },
    {
      "cell_type": "code",
      "execution_count": null,
      "metadata": {
        "colab": {
          "base_uri": "https://localhost:8080/"
        },
        "id": "G_fUwtiYPdHH",
        "outputId": "c72efc4b-99d7-421b-9ab2-2d2572417d39"
      },
      "outputs": [
        {
          "output_type": "stream",
          "name": "stdout",
          "text": [
            "Masukan panjang: 6\n",
            "Masukan lebar: 4\n",
            "Luas persegi panjang = 24\n"
          ]
        }
      ],
      "source": [
        "p = int (input(\"Masukan panjang: \"))\n",
        "l = int (input \"Masukan lebar: \"))\n",
        "luas = p * l\n",
        "print (\"Luas persegi panjang =\", luas)"
      ]
    },
    {
      "cell_type": "markdown",
      "source": [
        "Praktikum 02. Menghitung Luas Segitiga"
      ],
      "metadata": {
        "id": "LF5DA89GRWGP"
      }
    },
    {
      "cell_type": "code",
      "source": [
        "# kode untuk praktikum 02"
      ],
      "metadata": {
        "id": "_z7vwtbQRK8D"
      },
      "execution_count": null,
      "outputs": []
    },
    {
      "cell_type": "code",
      "source": [
        "import math\n",
        "\n",
        "a = float(input(\"Masukan sisi a: \"))\n",
        "b = float(input(\"Masukan sisi b: \"))\n",
        "c = float(input(\"Masukan sisi c: \"))\n",
        "\n",
        "s = (a+b+c)/2\n",
        "luas = math.sqrt(s*(s-a)*(s-b)*(s-c))\n",
        "print(\"Luas segitiga =\", luas)"
      ],
      "metadata": {
        "colab": {
          "base_uri": "https://localhost:8080/"
        },
        "id": "ieDz161PTWL_",
        "outputId": "73b26b7d-cbbc-4f37-f63f-bd8cdf0934bd"
      },
      "execution_count": 4,
      "outputs": [
        {
          "output_type": "stream",
          "name": "stdout",
          "text": [
            "Masukan sisi a: 12\n",
            "Masukan sisi b: 12\n",
            "Masukan sisi c: 12\n",
            "Luas segitiga = 62.353829072479584\n"
          ]
        }
      ]
    },
    {
      "cell_type": "markdown",
      "source": [
        "Praktikum 03. Konversi Suhu Celcius ke Fahrenheit"
      ],
      "metadata": {
        "id": "Xg7vY6M7U25F"
      }
    },
    {
      "cell_type": "code",
      "source": [
        "# kode untuk praktikum 03"
      ],
      "metadata": {
        "id": "G6yT0729UoYn"
      },
      "execution_count": null,
      "outputs": []
    },
    {
      "cell_type": "code",
      "source": [
        "c = float(input(\"Masukan suhu(C): \"))\n",
        "f = (c*9/5)+32\n",
        "print(\"Hasil konversi =\", f, \"F\")"
      ],
      "metadata": {
        "colab": {
          "base_uri": "https://localhost:8080/"
        },
        "id": "gHJu98GZVYN8",
        "outputId": "df3b67b4-9d64-4f9c-cb26-1dc2d8850c6f"
      },
      "execution_count": null,
      "outputs": [
        {
          "output_type": "stream",
          "name": "stdout",
          "text": [
            "Masukan suhu(C): 30\n",
            "Hasil konversi = 86.0 F\n"
          ]
        }
      ]
    },
    {
      "cell_type": "markdown",
      "source": [
        "Praktikum 04.  Menghitung Umur Berdasarkan Tahun Lahir"
      ],
      "metadata": {
        "id": "dh9r89fUWVTT"
      }
    },
    {
      "cell_type": "code",
      "source": [
        "# kode untuk praktikum 04"
      ],
      "metadata": {
        "id": "1Mw4CwasWEMN"
      },
      "execution_count": null,
      "outputs": []
    },
    {
      "cell_type": "code",
      "source": [
        "tahun_lahir = int(input(\"Masukan tahun lahir: \"))\n",
        "tahun_sekarang = 2025\n",
        "umur = tahun_sekarang - tahun_lahir\n",
        "print(\"Umur anda =\", umur, \"tahun\")"
      ],
      "metadata": {
        "colab": {
          "base_uri": "https://localhost:8080/"
        },
        "id": "cZhBdMz4WimZ",
        "outputId": "db5f2ea6-6339-4c2d-ee83-6b805a846b62"
      },
      "execution_count": 6,
      "outputs": [
        {
          "output_type": "stream",
          "name": "stdout",
          "text": [
            "Masukan tahun lahir: 2006\n",
            "Umur anda = 19 tahun\n"
          ]
        }
      ]
    },
    {
      "cell_type": "markdown",
      "source": [
        "Praktikum 05. Menghitung Luas Lingkaran"
      ],
      "metadata": {
        "id": "YVTlFFTfXjsG"
      }
    },
    {
      "cell_type": "code",
      "source": [
        "# kode untuk praktikum 05"
      ],
      "metadata": {
        "id": "jm7ZmftFXNo-"
      },
      "execution_count": null,
      "outputs": []
    },
    {
      "cell_type": "code",
      "source": [
        "import math\n",
        "r = float(input(\"Masukan jari-jari lingkaran: \"))\n",
        "luas = math.pi*r*r\n",
        "print(\"Luas lingkaran =\", luas)"
      ],
      "metadata": {
        "colab": {
          "base_uri": "https://localhost:8080/"
        },
        "id": "_O0ADD3sXu4E",
        "outputId": "e296312a-8a5c-4e05-a2d1-a392ebe87eac"
      },
      "execution_count": 5,
      "outputs": [
        {
          "output_type": "stream",
          "name": "stdout",
          "text": [
            "Masukan jari-jari lingkaran: 14\n",
            "Luas lingkaran = 615.7521601035994\n"
          ]
        }
      ]
    },
    {
      "cell_type": "markdown",
      "source": [
        "Praktikum 06. Menjumlahkan Tiga Bilangan"
      ],
      "metadata": {
        "id": "pQXiqHUiYz19"
      }
    },
    {
      "cell_type": "code",
      "source": [
        "# kode untuk praktikum 06"
      ],
      "metadata": {
        "id": "O-0fM4brYLsW"
      },
      "execution_count": null,
      "outputs": []
    },
    {
      "cell_type": "code",
      "source": [
        "a = int(input(\"Masukan bilangan pertama: \"))\n",
        "b = int(input(\"Masukan bilangan kedua: \"))\n",
        "c = int(input(\"Masukan bilangan ketiga: \"))\n",
        "jumlah = a+b+c\n",
        "print(\"Jumlah =\", jumlah)"
      ],
      "metadata": {
        "colab": {
          "base_uri": "https://localhost:8080/"
        },
        "id": "L_0k9L-KY-go",
        "outputId": "37cd20ab-3214-4d9d-ffa0-a48c409acfb1"
      },
      "execution_count": 7,
      "outputs": [
        {
          "output_type": "stream",
          "name": "stdout",
          "text": [
            "Masukan bilangan pertama: 23\n",
            "Masukan bilangan kedua: 12\n",
            "Masukan bilangan ketiga: 21\n",
            "Jumlah = 56\n"
          ]
        }
      ]
    },
    {
      "cell_type": "markdown",
      "source": [
        "Tugas Menghitung Volume Balok"
      ],
      "metadata": {
        "id": "hiz5ORHxw6rc"
      }
    },
    {
      "cell_type": "code",
      "source": [
        "# kode untuk tugas menghitung volume balok"
      ],
      "metadata": {
        "id": "js_7i8xJZfPA"
      },
      "execution_count": null,
      "outputs": []
    },
    {
      "cell_type": "code",
      "source": [
        "p = float(input(\"Masukan panjang: \"))\n",
        "l = float(input(\"Masukan lebar: \"))\n",
        "t = float(input(\"Masukan tinggi: \"))\n",
        "volume = p*l*t\n",
        "print(\"Volume balok =\", volume)"
      ],
      "metadata": {
        "colab": {
          "base_uri": "https://localhost:8080/"
        },
        "id": "8eKhnDetxdbU",
        "outputId": "95c18b67-043b-49d6-c3ba-e872e0c5e07e"
      },
      "execution_count": 8,
      "outputs": [
        {
          "output_type": "stream",
          "name": "stdout",
          "text": [
            "Masukan panjang: 8\n",
            "Masukan lebar: 2\n",
            "Masukan tinggi: 3\n",
            "Volume balok = 48.0\n"
          ]
        }
      ]
    },
    {
      "cell_type": "markdown",
      "source": [
        "Tugas Konversi Waktu"
      ],
      "metadata": {
        "id": "dKwacezO-7Tx"
      }
    },
    {
      "cell_type": "code",
      "source": [
        "# kode untuk tugas konversi waktu"
      ],
      "metadata": {
        "id": "BxPf0yKmyQc6"
      },
      "execution_count": null,
      "outputs": []
    },
    {
      "cell_type": "code",
      "source": [
        "totaldetik = int(input(\"Masukan jumlah detik: \"))\n",
        "jam = totaldetik // 3600\n",
        "sisa = totaldetik % 3600\n",
        "menit = sisa // 60\n",
        "detik = sisa % 60\n",
        "print(f\"{jam} jam, {menit} menit, {detik} detik\")"
      ],
      "metadata": {
        "colab": {
          "base_uri": "https://localhost:8080/"
        },
        "id": "M64iHjC3AiHb",
        "outputId": "228e8b6f-fcf7-411e-cfd5-31bc27b8e395"
      },
      "execution_count": null,
      "outputs": [
        {
          "output_type": "stream",
          "name": "stdout",
          "text": [
            "Masukan jumlah detik: 4567\n",
            "1 jam, 16 menit, 7 detik\n"
          ]
        }
      ]
    },
    {
      "cell_type": "markdown",
      "source": [
        "Tugas Rata-rata Nilai Tiga Mata Kuliah"
      ],
      "metadata": {
        "id": "3Xs9s7LHuYwu"
      }
    },
    {
      "cell_type": "code",
      "source": [
        "# kode untuk tugas rata-rata nilai tiga mata kuliah"
      ],
      "metadata": {
        "id": "fow-_mIeDXNb"
      },
      "execution_count": null,
      "outputs": []
    },
    {
      "cell_type": "code",
      "source": [
        "nilai1 = int(input(\"Masukkan nilai mata kuliah 1: \"))\n",
        "nilai2 = int(input(\"Masukkan nilai mata kuliah 2: \"))\n",
        "nilai3 = int(input(\"Masukkan nilai mata kuliah 3: \"))\n",
        "rata_rata = (nilai1 + nilai2 + nilai3) / 3\n",
        "print(\"Nilai rata-rata:\", rata_rata)\n",
        "if rata_rata >= 60:\n",
        "    print(\"Lulus\")\n",
        "else:\n",
        "    print(\"Tidak Lulus\")"
      ],
      "metadata": {
        "colab": {
          "base_uri": "https://localhost:8080/"
        },
        "id": "R0nLYBb2NHtS",
        "outputId": "fa78d100-b3b9-4756-cb9d-9000d055d55f"
      },
      "execution_count": 10,
      "outputs": [
        {
          "output_type": "stream",
          "name": "stdout",
          "text": [
            "Masukkan nilai mata kuliah 1: 40\n",
            "Masukkan nilai mata kuliah 2: 30\n",
            "Masukkan nilai mata kuliah 3: 50\n",
            "Nilai rata-rata: 40.0\n",
            "Tidak Lulus\n"
          ]
        }
      ]
    },
    {
      "cell_type": "markdown",
      "source": [
        "Tugas Menghitung Diskon Belanja"
      ],
      "metadata": {
        "id": "sfP5CaL1uewA"
      }
    },
    {
      "cell_type": "code",
      "source": [
        "# kode untuk tugas menghitung diskon belanja"
      ],
      "metadata": {
        "id": "rYfnY4CrNX0k"
      },
      "execution_count": null,
      "outputs": []
    },
    {
      "cell_type": "code",
      "source": [
        "belanja = float(input(\"Masukkan total belanja: \"))\n",
        "if belanja >= 500000:\n",
        "    diskon = belanja * 0.20\n",
        "elif belanja >= 250000:\n",
        "    diskon = belanja * 0.10\n",
        "else:\n",
        "    diskon = 0\n",
        "totalbayar = belanja - diskon\n",
        "print(\"Total belanja :\", belanja)\n",
        "print(\"Diskon :\", diskon)\n",
        "print(\"Total bayar :\", totalbayar)"
      ],
      "metadata": {
        "colab": {
          "base_uri": "https://localhost:8080/"
        },
        "id": "leYW96kMx18J",
        "outputId": "06714f1e-4ac1-4bf9-ffec-81f505e0e09e"
      },
      "execution_count": 13,
      "outputs": [
        {
          "output_type": "stream",
          "name": "stdout",
          "text": [
            "Masukkan total belanja: 350000\n",
            "Total belanja : 350000.0\n",
            "Diskon : 35000.0\n",
            "Total bayar : 315000.0\n"
          ]
        }
      ]
    },
    {
      "cell_type": "code",
      "source": [],
      "metadata": {
        "id": "PucXwk5pyAWz"
      },
      "execution_count": null,
      "outputs": []
    }
  ]
}