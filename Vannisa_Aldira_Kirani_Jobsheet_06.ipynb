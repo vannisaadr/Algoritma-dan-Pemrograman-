{
  "nbformat": 4,
  "nbformat_minor": 0,
  "metadata": {
    "colab": {
      "provenance": []
    },
    "kernelspec": {
      "name": "python3",
      "display_name": "Python 3"
    },
    "language_info": {
      "name": "python"
    }
  },
  "cells": [
    {
      "cell_type": "markdown",
      "source": [
        "Praktikum 01 - Membuat dan Mengakses List 1D"
      ],
      "metadata": {
        "id": "sXN9rPYgLob_"
      }
    },
    {
      "cell_type": "code",
      "execution_count": null,
      "metadata": {
        "id": "IDj_D4_vLiCP"
      },
      "outputs": [],
      "source": [
        "# kode untuk praktikum 01"
      ]
    },
    {
      "cell_type": "code",
      "source": [
        "mahasiswa = [\"Andi\", \"Budi\", \"Cici\"]\n",
        "print(mahasiswa[0])\n",
        "print(mahasiswa[1])\n",
        "print(mahasiswa[-1])"
      ],
      "metadata": {
        "colab": {
          "base_uri": "https://localhost:8080/"
        },
        "id": "AQga2HoXLw9W",
        "outputId": "d98a2687-9a6a-49ab-d697-7c0a0505b3f7"
      },
      "execution_count": null,
      "outputs": [
        {
          "output_type": "stream",
          "name": "stdout",
          "text": [
            "Andi\n",
            "Budi\n",
            "Cici\n"
          ]
        }
      ]
    },
    {
      "cell_type": "markdown",
      "source": [
        "Praktikum 02 - Update dan Operasi Dasar List"
      ],
      "metadata": {
        "id": "OjSMCGAYMFbm"
      }
    },
    {
      "cell_type": "code",
      "source": [
        "# kode untuk praktikum 02"
      ],
      "metadata": {
        "id": "MrKe3C6xMKrO"
      },
      "execution_count": null,
      "outputs": []
    },
    {
      "cell_type": "code",
      "source": [
        "nilai = [85, 90, 78]\n",
        "nilai[1] = 95\n",
        "nilai.append(100)\n",
        "nilai.remove(78)\n",
        "print(nilai)"
      ],
      "metadata": {
        "colab": {
          "base_uri": "https://localhost:8080/"
        },
        "id": "CnvGGNW2MNz-",
        "outputId": "71827697-37e7-4f43-c97f-433353f07a18"
      },
      "execution_count": null,
      "outputs": [
        {
          "output_type": "stream",
          "name": "stdout",
          "text": [
            "[85, 95, 100]\n"
          ]
        }
      ]
    },
    {
      "cell_type": "markdown",
      "source": [
        "Praktikum 03 - Slicing List"
      ],
      "metadata": {
        "id": "IGx92MvyMnpu"
      }
    },
    {
      "cell_type": "code",
      "source": [
        "# kode untuk praktikum 03"
      ],
      "metadata": {
        "id": "kYgljx5LMrle"
      },
      "execution_count": null,
      "outputs": []
    },
    {
      "cell_type": "code",
      "source": [
        "nilai = [85, 90, 78, 92, 88]\n",
        "print(nilai[0:3])\n",
        "print(nilai[2:])\n",
        "print(nilai[:3])"
      ],
      "metadata": {
        "colab": {
          "base_uri": "https://localhost:8080/"
        },
        "id": "OEQ0rZBWMuDW",
        "outputId": "629ccccc-e4d0-43c2-f0a5-30b2240eca84"
      },
      "execution_count": null,
      "outputs": [
        {
          "output_type": "stream",
          "name": "stdout",
          "text": [
            "[85, 90, 78]\n",
            "[78, 92, 88]\n",
            "[85, 90, 78]\n"
          ]
        }
      ]
    },
    {
      "cell_type": "markdown",
      "source": [
        "Praktikum 04 - List 2D (Matriks)"
      ],
      "metadata": {
        "id": "ZrM9wCxwNiOf"
      }
    },
    {
      "cell_type": "code",
      "source": [
        "# kode untuk praktikum 04"
      ],
      "metadata": {
        "id": "BmZJPmfeNqNg"
      },
      "execution_count": null,
      "outputs": []
    },
    {
      "cell_type": "code",
      "source": [
        "matriks = [\n",
        "    [1, 2, 3],\n",
        "    [4, 5, 6],\n",
        "    [7, 8, 9]\n",
        "]\n",
        "\n",
        "print(matriks [0] [0])\n",
        "print(matriks [1] [2])\n",
        "print(matriks [2])"
      ],
      "metadata": {
        "colab": {
          "base_uri": "https://localhost:8080/"
        },
        "id": "glbo_sKHNtCO",
        "outputId": "e60f375a-3b0c-428c-bc16-73bae88b1fd4"
      },
      "execution_count": null,
      "outputs": [
        {
          "output_type": "stream",
          "name": "stdout",
          "text": [
            "1\n",
            "6\n",
            "[7, 8, 9]\n"
          ]
        }
      ]
    },
    {
      "cell_type": "markdown",
      "source": [
        "Praktikum 05 - Operasi pada list 2D"
      ],
      "metadata": {
        "id": "Wo7RRHmqPDWD"
      }
    },
    {
      "cell_type": "code",
      "source": [
        "# kode untuk operasi pada list 2D"
      ],
      "metadata": {
        "id": "A3aXTeUyPK7e"
      },
      "execution_count": null,
      "outputs": []
    },
    {
      "cell_type": "code",
      "source": [
        "A = [[1, 2, 3], [4, 5, 6]]\n",
        "B = [[7, 8, 9], [10, 11, 12]]\n",
        "C = []\n",
        "\n",
        "for i in range(len(A)):\n",
        "  baris = []\n",
        "  for j in range(len(A[0])):\n",
        "    baris.append(A[i] [j] + B[i] [j])\n",
        "  C.append(baris)\n",
        "print(C)"
      ],
      "metadata": {
        "colab": {
          "base_uri": "https://localhost:8080/"
        },
        "id": "LxRm9fd7POUW",
        "outputId": "88f5f44c-4155-4b53-993d-ce20a6c92b40"
      },
      "execution_count": null,
      "outputs": [
        {
          "output_type": "stream",
          "name": "stdout",
          "text": [
            "[[8, 10, 12], [14, 16, 18]]\n"
          ]
        }
      ]
    },
    {
      "cell_type": "markdown",
      "source": [
        "Praktikum 06 - Studi Kasus Pengelolaan Nilai Mahasiswa"
      ],
      "metadata": {
        "id": "8W0KcfuJSGPm"
      }
    },
    {
      "cell_type": "code",
      "source": [
        "# kode untuk praktikum 06"
      ],
      "metadata": {
        "id": "PCYX5JBvSTxV"
      },
      "execution_count": null,
      "outputs": []
    },
    {
      "cell_type": "code",
      "source": [
        "nilai = [\n",
        "    [80, 90, 85],\n",
        "    [70, 75, 80],\n",
        "    [88, 92, 84]\n",
        "]\n",
        "\n",
        "for i, baris in enumerate(nilai, start=1):\n",
        "  rata = sum(baris) / len(baris)\n",
        "  print(f\"Rata-rata mahasiswa {i}: {rata:.2f}\")"
      ],
      "metadata": {
        "colab": {
          "base_uri": "https://localhost:8080/"
        },
        "id": "crKtGKUVSfCN",
        "outputId": "87106def-3b32-445a-f0e0-0d3f77188348"
      },
      "execution_count": null,
      "outputs": [
        {
          "output_type": "stream",
          "name": "stdout",
          "text": [
            "Rata-rata mahasiswa 1: 85.00\n",
            "Rata-rata mahasiswa 2: 75.00\n",
            "Rata-rata mahasiswa 3: 88.00\n"
          ]
        }
      ]
    },
    {
      "cell_type": "markdown",
      "source": [
        "Tugas Akses Elemen list"
      ],
      "metadata": {
        "id": "BwRh0m2-j_e9"
      }
    },
    {
      "cell_type": "code",
      "source": [
        "# kode untuk tugas akses elemen list"
      ],
      "metadata": {
        "id": "7c3FRw3KkDIc"
      },
      "execution_count": null,
      "outputs": []
    },
    {
      "cell_type": "code",
      "source": [
        "mahasiswa = [\"Nayla\", \"Rara\", \"Sabrina\", \"Okta\", \"Vannisa\"]\n",
        "print(mahasiswa[0])\n",
        "print(mahasiswa[-1])\n",
        "print(mahasiswa[2])"
      ],
      "metadata": {
        "colab": {
          "base_uri": "https://localhost:8080/"
        },
        "id": "a0IPKazTkQJO",
        "outputId": "7731852e-ecfe-46c0-d310-48056c30d0cc"
      },
      "execution_count": null,
      "outputs": [
        {
          "output_type": "stream",
          "name": "stdout",
          "text": [
            "Nayla\n",
            "Vannisa\n",
            "Sabrina\n"
          ]
        }
      ]
    },
    {
      "cell_type": "markdown",
      "source": [
        "Tugas Operasi Pada List"
      ],
      "metadata": {
        "id": "MFZwm9Prmek9"
      }
    },
    {
      "cell_type": "code",
      "source": [
        "# kode untuk operasi pada list"
      ],
      "metadata": {
        "id": "9RQE7t6kmhAt"
      },
      "execution_count": null,
      "outputs": []
    },
    {
      "cell_type": "code",
      "source": [
        "nilai = [70, 75, 80]\n",
        "nilai[1] = 85\n",
        "nilai.append(90)\n",
        "nilai.remove(70)\n",
        "print(nilai)"
      ],
      "metadata": {
        "colab": {
          "base_uri": "https://localhost:8080/"
        },
        "id": "Kjzi5gUfmjKm",
        "outputId": "ed054dff-c124-4928-ffa3-ee9f6c96a3ba"
      },
      "execution_count": null,
      "outputs": [
        {
          "output_type": "stream",
          "name": "stdout",
          "text": [
            "[85, 80, 90]\n"
          ]
        }
      ]
    },
    {
      "cell_type": "markdown",
      "source": [
        "Tugas Slicing List"
      ],
      "metadata": {
        "id": "46AeVtDgoAD9"
      }
    },
    {
      "cell_type": "code",
      "source": [
        "# kode untuk tugas slicing list"
      ],
      "metadata": {
        "id": "CK_AQ8q6oDI0"
      },
      "execution_count": null,
      "outputs": []
    },
    {
      "cell_type": "code",
      "source": [
        "angka = [1, 2, 3, 4, 5, 6, 7, 8, 9, 10, 11]\n",
        "print(angka[0:3])\n",
        "print(angka[-4:])\n",
        "print(angka[: :2])"
      ],
      "metadata": {
        "colab": {
          "base_uri": "https://localhost:8080/"
        },
        "id": "Y-RYCMyzoFQU",
        "outputId": "e38ea8e2-57b8-43e5-c638-3304fc44d96a"
      },
      "execution_count": null,
      "outputs": [
        {
          "output_type": "stream",
          "name": "stdout",
          "text": [
            "[1, 2, 3]\n",
            "[8, 9, 10, 11]\n",
            "[1, 3, 5, 7, 9, 11]\n"
          ]
        }
      ]
    },
    {
      "cell_type": "markdown",
      "source": [
        "Tugas List 2D - Matriks"
      ],
      "metadata": {
        "id": "DCVHU-eVrYBx"
      }
    },
    {
      "cell_type": "code",
      "source": [
        "# kode untuk tugas list 2D - matriks"
      ],
      "metadata": {
        "id": "7nvQppU4ranw"
      },
      "execution_count": null,
      "outputs": []
    },
    {
      "cell_type": "code",
      "source": [
        "matriks = [\n",
        "    [1, 2, 3],\n",
        "    [4, 5, 6]\n",
        "]\n",
        "\n",
        "print(matriks[0] [1])\n",
        "print(matriks[1] [2])\n",
        "print(matriks[0])"
      ],
      "metadata": {
        "colab": {
          "base_uri": "https://localhost:8080/"
        },
        "id": "HZyTAE3crd4E",
        "outputId": "11eb6885-475d-43c2-b3df-8ba17b562697"
      },
      "execution_count": null,
      "outputs": [
        {
          "output_type": "stream",
          "name": "stdout",
          "text": [
            "2\n",
            "6\n",
            "[1, 2, 3]\n"
          ]
        }
      ]
    },
    {
      "cell_type": "markdown",
      "source": [
        "Tugas Operasi 2D"
      ],
      "metadata": {
        "id": "xkt_yNQ0s3Wt"
      }
    },
    {
      "cell_type": "code",
      "source": [
        "# kode untuk tugas operasi 2D"
      ],
      "metadata": {
        "id": "juMhTAhus6cd"
      },
      "execution_count": null,
      "outputs": []
    },
    {
      "cell_type": "code",
      "source": [
        "A = [[1, 2], [3, 4]]\n",
        "B = [[5, 6], [7, 8]]\n",
        "C = []\n",
        "\n",
        "for i in range(len(A)):\n",
        "  baris = []\n",
        "  for j in range(len(A[0])):\n",
        "    baris.append(A[i] [j] + B[i] [j])\n",
        "  C.append(baris)\n",
        "print(C)"
      ],
      "metadata": {
        "colab": {
          "base_uri": "https://localhost:8080/"
        },
        "id": "1cPIZdEI3NSq",
        "outputId": "71f3032e-a9e4-4f34-ff62-a2b120e6f55c"
      },
      "execution_count": null,
      "outputs": [
        {
          "output_type": "stream",
          "name": "stdout",
          "text": [
            "[[6, 8], [10, 12]]\n"
          ]
        }
      ]
    },
    {
      "cell_type": "markdown",
      "source": [
        "Tugas Rata-rata Nilai Mahasiswa"
      ],
      "metadata": {
        "id": "XIp34eUe527y"
      }
    },
    {
      "cell_type": "code",
      "source": [
        "# kode untuk tugas rata-rata nilai mahasiswa"
      ],
      "metadata": {
        "id": "HlZzVuUW59KL"
      },
      "execution_count": null,
      "outputs": []
    },
    {
      "cell_type": "code",
      "source": [
        "nilai = [\n",
        "    [75, 80, 85],\n",
        "    [60, 70, 65],\n",
        "    [90, 95, 92]\n",
        "]\n",
        "\n",
        "for i, baris in enumerate(nilai, start=1):\n",
        "  rata = sum(baris) / len(baris)\n",
        "  print(f\"Rata-rata nilai mahasiswa {i}: {rata:.2f}\")"
      ],
      "metadata": {
        "colab": {
          "base_uri": "https://localhost:8080/"
        },
        "id": "sMm-N2L36Bx6",
        "outputId": "7e9e558b-e9c2-43f0-f4f5-8c0d4429399d"
      },
      "execution_count": null,
      "outputs": [
        {
          "output_type": "stream",
          "name": "stdout",
          "text": [
            "Rata-rata nilai mahasiswa 1: 80.00\n",
            "Rata-rata nilai mahasiswa 2: 65.00\n",
            "Rata-rata nilai mahasiswa 3: 92.33\n"
          ]
        }
      ]
    },
    {
      "cell_type": "markdown",
      "source": [
        "Tugas Studi Kasus - Data Toko"
      ],
      "metadata": {
        "id": "Xlp7kIt87g5C"
      }
    },
    {
      "cell_type": "code",
      "source": [
        "# kode untuk tugas studi kasus - data toko"
      ],
      "metadata": {
        "id": "ha0j72IR7lqs"
      },
      "execution_count": null,
      "outputs": []
    },
    {
      "cell_type": "code",
      "source": [
        "stok_barang = [\n",
        "    [\"Buku\", 20],\n",
        "    [\"Pulpen\", 35],\n",
        "    [\"Penghapus\", 15]\n",
        "]\n",
        "\n",
        "print(f\"=== Daftar Barang === \")\n",
        "for i in stok_barang:\n",
        "    print(f\"{i[0]}: {i[1]}\")\n",
        "\n",
        "barang_terbanyak = stok_barang[0]\n",
        "for i in stok_barang:\n",
        "  if i[1] > barang_terbanyak [1]:\n",
        "    barang_terbanyak = i\n",
        "print(f\"\\nBarang dengan stok terbanyak: {barang_terbanyak[0]} {barang_terbanyak[1]}\")"
      ],
      "metadata": {
        "colab": {
          "base_uri": "https://localhost:8080/"
        },
        "id": "XHHt-JXn7rf8",
        "outputId": "2f4a20cf-899e-4366-ea3c-bf19f99e1dc6"
      },
      "execution_count": null,
      "outputs": [
        {
          "output_type": "stream",
          "name": "stdout",
          "text": [
            "=== Daftar Barang === \n",
            "Buku: 20\n",
            "Pulpen: 35\n",
            "Penghapus: 15\n",
            "\n",
            "Barang dengan stok terbanyak: Pulpen 35\n"
          ]
        }
      ]
    }
  ]
}