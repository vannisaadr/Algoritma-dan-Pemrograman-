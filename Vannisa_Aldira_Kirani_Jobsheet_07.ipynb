{
  "nbformat": 4,
  "nbformat_minor": 0,
  "metadata": {
    "colab": {
      "provenance": []
    },
    "kernelspec": {
      "name": "python3",
      "display_name": "Python 3"
    },
    "language_info": {
      "name": "python"
    }
  },
  "cells": [
    {
      "cell_type": "markdown",
      "source": [
        "Praktikum 01 - Tuple: Data Tetap yang Tidak Bisa Diubah"
      ],
      "metadata": {
        "id": "khyhqy04JY6r"
      }
    },
    {
      "cell_type": "code",
      "execution_count": null,
      "metadata": {
        "id": "TT0Uns39JWg1"
      },
      "outputs": [],
      "source": [
        "# kode untuk praktikum 01"
      ]
    },
    {
      "cell_type": "code",
      "source": [
        "koordinat = (7.05, 110.44)\n",
        "print(\"Lintang:\", koordinat[0])\n",
        "print(\"Bujur  :\", koordinat[1])"
      ],
      "metadata": {
        "colab": {
          "base_uri": "https://localhost:8080/"
        },
        "id": "QeK67m2qMIDH",
        "outputId": "52e1a180-e416-420f-a7f0-56f7c4ee3251"
      },
      "execution_count": null,
      "outputs": [
        {
          "output_type": "stream",
          "name": "stdout",
          "text": [
            "Lintang: 7.05\n",
            "Bujur  : 110.44\n"
          ]
        }
      ]
    },
    {
      "cell_type": "markdown",
      "source": [
        "Praktikum 02 - Dictionary Dasar: Menyimpan Data Mahasiswa"
      ],
      "metadata": {
        "id": "3Ti2C5WWNB_A"
      }
    },
    {
      "cell_type": "code",
      "source": [
        "# kode untuk praktikum 02"
      ],
      "metadata": {
        "id": "8Gi9gG2JNL-x"
      },
      "execution_count": null,
      "outputs": []
    },
    {
      "cell_type": "code",
      "source": [
        "mahasiswa = {\n",
        "    \"NIM\": \"20251001\",\n",
        "    \"Nama\": \"Andi\",\n",
        "    \"Prodi\": \"TRK\"\n",
        "}\n",
        "\n",
        "print(\"NIM  :\", mahasiswa[\"NIM\"])\n",
        "print(\"Nama :\", mahasiswa[\"Nama\"])\n",
        "print(\"Prodi:\", mahasiswa[\"Prodi\"])"
      ],
      "metadata": {
        "colab": {
          "base_uri": "https://localhost:8080/"
        },
        "id": "8hzdFk7QNTLY",
        "outputId": "ec463a0a-6ee0-40f7-8038-297ee918241b"
      },
      "execution_count": null,
      "outputs": [
        {
          "output_type": "stream",
          "name": "stdout",
          "text": [
            "NIM  : 20251001\n",
            "Nama : Andi\n",
            "Prodi: TRK\n"
          ]
        }
      ]
    },
    {
      "cell_type": "markdown",
      "source": [
        "Praktikum 03 - Operasi pada Dictionary"
      ],
      "metadata": {
        "id": "hYIt2ROJORb_"
      }
    },
    {
      "cell_type": "code",
      "source": [
        "# kode untuk praktikum 03"
      ],
      "metadata": {
        "id": "nVZRCjmkObzX"
      },
      "execution_count": null,
      "outputs": []
    },
    {
      "cell_type": "code",
      "source": [
        "mahasiswa = {\n",
        "    \"NIM\": \"20251001\",\n",
        "    \"Nama\": \"Andi\",\n",
        "    \"Prodi\": \"TRK\"\n",
        "}\n",
        "\n",
        "mahasiswa[\"Umur\"] = 20\n",
        "mahasiswa[\"Prodi\"]= \"Teknik Komputer\"\n",
        "del mahasiswa[\"Umur\"]\n",
        "\n",
        "print(mahasiswa)"
      ],
      "metadata": {
        "colab": {
          "base_uri": "https://localhost:8080/"
        },
        "id": "oiCCS4clOeW4",
        "outputId": "46095904-3d7d-42df-a78c-22808875e684"
      },
      "execution_count": null,
      "outputs": [
        {
          "output_type": "stream",
          "name": "stdout",
          "text": [
            "{'NIM': '20251001', 'Nama': 'Andi', 'Prodi': 'Teknik Komputer'}\n"
          ]
        }
      ]
    },
    {
      "cell_type": "markdown",
      "source": [
        "Praktikum 04 - Set dan Operasi Himpunan"
      ],
      "metadata": {
        "id": "dgLgtDffPQZP"
      }
    },
    {
      "cell_type": "code",
      "source": [
        "# kode untuk praktikum 04"
      ],
      "metadata": {
        "id": "HoZDsPkSPXuX"
      },
      "execution_count": null,
      "outputs": []
    },
    {
      "cell_type": "code",
      "source": [
        "A = {1, 2, 3, 4}\n",
        "B = {3, 4, 5, 6}\n",
        "\n",
        "print(\"Union:\", A | B)\n",
        "print(\"Intersection:\", A & B)\n",
        "print(\"Differences:\", A - B)"
      ],
      "metadata": {
        "colab": {
          "base_uri": "https://localhost:8080/"
        },
        "id": "bxyqo6swPZ2H",
        "outputId": "7e9f442c-0705-4196-bda3-f12130f71f7a"
      },
      "execution_count": null,
      "outputs": [
        {
          "output_type": "stream",
          "name": "stdout",
          "text": [
            "Union: {1, 2, 3, 4, 5, 6}\n",
            "Intersection: {3, 4}\n",
            "Differences: {1, 2}\n"
          ]
        }
      ]
    },
    {
      "cell_type": "markdown",
      "source": [
        "Praktikum 05 - Studi Kasus: Data Mahasiswa dan Mata Kuliah"
      ],
      "metadata": {
        "id": "mj8CwjA-QBvv"
      }
    },
    {
      "cell_type": "code",
      "source": [
        "# kode untuk praktikum 05"
      ],
      "metadata": {
        "id": "HUoP5mx3QP_v"
      },
      "execution_count": null,
      "outputs": []
    },
    {
      "cell_type": "code",
      "source": [
        "mhs1 = {\"Algoritma\", \"Matematika\", \"Bahasa Inggris\"}\n",
        "mhs2 = {\"Algoritma\", \"Basis Data\", \"Matematika\"}\n",
        "\n",
        "print(\"Mata kuliah Mhs1:\", mhs1)\n",
        "print(\"Mata kuliah Mhs2:\", mhs2)\n",
        "print(\"Mata kuliah yang sama:\", mhs1 & mhs2)"
      ],
      "metadata": {
        "colab": {
          "base_uri": "https://localhost:8080/"
        },
        "id": "V_oXxFljQS3_",
        "outputId": "19133b32-28d3-44c5-db27-b060a9c997a0"
      },
      "execution_count": null,
      "outputs": [
        {
          "output_type": "stream",
          "name": "stdout",
          "text": [
            "Mata kuliah Mhs1: {'Matematika', 'Algoritma', 'Bahasa Inggris'}\n",
            "Mata kuliah Mhs2: {'Matematika', 'Algoritma', 'Basis Data'}\n",
            "Mata kuliah yang sama: {'Matematika', 'Algoritma'}\n"
          ]
        }
      ]
    },
    {
      "cell_type": "markdown",
      "source": [
        "Praktikum 06 - Studi Kasus Dictionary: Daftar Nilai Mahasiswa"
      ],
      "metadata": {
        "id": "SuaKLqZGRSvn"
      }
    },
    {
      "cell_type": "code",
      "source": [
        "# kode untuk praktikum 06"
      ],
      "metadata": {
        "id": "22YwX4rPRuR3"
      },
      "execution_count": null,
      "outputs": []
    },
    {
      "cell_type": "code",
      "source": [
        "nilai_mahasiswa = {\n",
        "    \"Andi\": 80,\n",
        "    \"Budi\": 75,\n",
        "    \"Cici\": 90\n",
        "}\n",
        "\n",
        "for nama, nilai in nilai_mahasiswa.items():\n",
        "  print(f\"{nama}: {nilai}\")\n",
        "\n",
        "rata = sum(nilai_mahasiswa.values()) / len(nilai_mahasiswa)\n",
        "print(f\"Rata-rata nilai: {rata:.2f}\")"
      ],
      "metadata": {
        "colab": {
          "base_uri": "https://localhost:8080/"
        },
        "id": "wsVGcyNdRxSg",
        "outputId": "bb1c7ba2-b2f6-4682-9c4d-127cd603be42"
      },
      "execution_count": null,
      "outputs": [
        {
          "output_type": "stream",
          "name": "stdout",
          "text": [
            "Andi: 80\n",
            "Budi: 75\n",
            "Cici: 90\n",
            "Rata-rata nilai: 81.67\n"
          ]
        }
      ]
    },
    {
      "cell_type": "markdown",
      "source": [
        "Tugas Tuple Sederhana"
      ],
      "metadata": {
        "id": "cr-nOn-rb-nt"
      }
    },
    {
      "cell_type": "code",
      "source": [
        "# kode untuk tugas tuple sederhana"
      ],
      "metadata": {
        "id": "ZuNjZCq3exm-"
      },
      "execution_count": null,
      "outputs": []
    },
    {
      "cell_type": "code",
      "source": [
        "mahasiswa = (\"Vannisa\", 19, \"TRK\")\n",
        "print(mahasiswa[0])\n",
        "print(mahasiswa[1])\n",
        "print(mahasiswa[2])"
      ],
      "metadata": {
        "colab": {
          "base_uri": "https://localhost:8080/"
        },
        "id": "6YRRuyWXe8Za",
        "outputId": "772ea37f-d5fe-4486-d3b3-ebf547e097fd"
      },
      "execution_count": null,
      "outputs": [
        {
          "output_type": "stream",
          "name": "stdout",
          "text": [
            "Vannisa\n",
            "19\n",
            "TRK\n"
          ]
        }
      ]
    },
    {
      "cell_type": "markdown",
      "source": [
        "Tugas Tuple Tidak Bisa Diubah"
      ],
      "metadata": {
        "id": "8oQ2GnHmfzT-"
      }
    },
    {
      "cell_type": "code",
      "source": [
        "# kode untuk tugas tuple tidak bisa diubah"
      ],
      "metadata": {
        "id": "zqViFbcjfyvG"
      },
      "execution_count": null,
      "outputs": []
    },
    {
      "cell_type": "code",
      "source": [
        "data = (1, 2, 3)\n",
        "\n",
        "data[0]= 4\n",
        "\n",
        "print(angka)"
      ],
      "metadata": {
        "colab": {
          "base_uri": "https://localhost:8080/",
          "height": 211
        },
        "id": "kz-BXvztf_Y2",
        "outputId": "fa90d696-92ce-401b-88bb-de27a6fb176e"
      },
      "execution_count": null,
      "outputs": [
        {
          "output_type": "error",
          "ename": "TypeError",
          "evalue": "'tuple' object does not support item assignment",
          "traceback": [
            "\u001b[0;31m---------------------------------------------------------------------------\u001b[0m",
            "\u001b[0;31mTypeError\u001b[0m                                 Traceback (most recent call last)",
            "\u001b[0;32m/tmp/ipython-input-2602567300.py\u001b[0m in \u001b[0;36m<cell line: 0>\u001b[0;34m()\u001b[0m\n\u001b[1;32m      1\u001b[0m \u001b[0mdata\u001b[0m \u001b[0;34m=\u001b[0m \u001b[0;34m(\u001b[0m\u001b[0;36m1\u001b[0m\u001b[0;34m,\u001b[0m \u001b[0;36m2\u001b[0m\u001b[0;34m,\u001b[0m \u001b[0;36m3\u001b[0m\u001b[0;34m)\u001b[0m\u001b[0;34m\u001b[0m\u001b[0;34m\u001b[0m\u001b[0m\n\u001b[1;32m      2\u001b[0m \u001b[0;34m\u001b[0m\u001b[0m\n\u001b[0;32m----> 3\u001b[0;31m \u001b[0mdata\u001b[0m\u001b[0;34m[\u001b[0m\u001b[0;36m0\u001b[0m\u001b[0;34m]\u001b[0m\u001b[0;34m=\u001b[0m \u001b[0;36m4\u001b[0m\u001b[0;34m\u001b[0m\u001b[0;34m\u001b[0m\u001b[0m\n\u001b[0m\u001b[1;32m      4\u001b[0m \u001b[0;34m\u001b[0m\u001b[0m\n\u001b[1;32m      5\u001b[0m \u001b[0mprint\u001b[0m\u001b[0;34m(\u001b[0m\u001b[0mangka\u001b[0m\u001b[0;34m)\u001b[0m\u001b[0;34m\u001b[0m\u001b[0;34m\u001b[0m\u001b[0m\n",
            "\u001b[0;31mTypeError\u001b[0m: 'tuple' object does not support item assignment"
          ]
        }
      ]
    },
    {
      "cell_type": "markdown",
      "source": [
        "Tugas Dictionary Dasar"
      ],
      "metadata": {
        "id": "571hLqPGjmTl"
      }
    },
    {
      "cell_type": "code",
      "source": [
        "# kode untuk tugas dictionary dasar"
      ],
      "metadata": {
        "id": "9QTqGr2Hjov1"
      },
      "execution_count": null,
      "outputs": []
    },
    {
      "cell_type": "code",
      "source": [
        "data_buku = {\n",
        "    \"Judul\": \"Algoritma\",\n",
        "    \"Penulis\": \"Munir\",\n",
        "    \"Tahun\": \"2021\"\n",
        "}\n",
        "\n",
        "print(\"Judul   :\", data_buku[\"Judul\"])\n",
        "print(\"Penulis :\", data_buku[\"Penulis\"])\n",
        "print(\"Tahun   :\", data_buku[\"Tahun\"])"
      ],
      "metadata": {
        "colab": {
          "base_uri": "https://localhost:8080/"
        },
        "id": "stO3-ezFjrjO",
        "outputId": "0b2551d5-168f-4340-9d59-de40ffe94ec0"
      },
      "execution_count": null,
      "outputs": [
        {
          "output_type": "stream",
          "name": "stdout",
          "text": [
            "Judul   : Algoritma\n",
            "Penulis : Munir\n",
            "Tahun   : 2021\n"
          ]
        }
      ]
    },
    {
      "cell_type": "markdown",
      "source": [
        "Tugas Operasi Dictionary"
      ],
      "metadata": {
        "id": "m5ke5w8ak8Ho"
      }
    },
    {
      "cell_type": "code",
      "source": [
        "# kode untuk tugas operasi dictionary"
      ],
      "metadata": {
        "id": "nDF7CeHtk_X2"
      },
      "execution_count": null,
      "outputs": []
    },
    {
      "cell_type": "code",
      "source": [
        "data_dosen = {\n",
        "    \"NIP\": \"12345\",\n",
        "    \"Nama\": \"Budi\",\n",
        "    \"Prodi\": \"TRK\"\n",
        "}\n",
        "\n",
        "data_dosen[\"Umur\"] = 40\n",
        "data_dosen[\"Prodi\"] = \"Teknik Komputer\"\n",
        "del data_dosen[\"Umur\"]\n",
        "\n",
        "print(data_dosen)"
      ],
      "metadata": {
        "colab": {
          "base_uri": "https://localhost:8080/"
        },
        "id": "JD5a9cs5lFy4",
        "outputId": "6d25ac9a-ce59-4634-8c78-5e6be1a7ed8f"
      },
      "execution_count": null,
      "outputs": [
        {
          "output_type": "stream",
          "name": "stdout",
          "text": [
            "{'NIP': '12345', 'Nama': 'Budi', 'Prodi': 'Teknik Komputer'}\n"
          ]
        }
      ]
    },
    {
      "cell_type": "markdown",
      "source": [
        "Tugas Set dan Himpunan"
      ],
      "metadata": {
        "id": "42hqrXtlmEwV"
      }
    },
    {
      "cell_type": "code",
      "source": [
        "# kode untuk tugas set dan himpunan"
      ],
      "metadata": {
        "id": "DjwY-cYXmIDZ"
      },
      "execution_count": null,
      "outputs": []
    },
    {
      "cell_type": "code",
      "source": [
        "A = {\"Matematika\", \"Algoritma\", \"Bahasa Inggris\"}\n",
        "B = {\"Algoritma\", \"Basis Data\", \"Matematika\"}\n",
        "\n",
        "print(\"Union:\", A | B)\n",
        "print(\"Intersection:\", A & B)\n",
        "print(\"Differences:\", A - B)"
      ],
      "metadata": {
        "colab": {
          "base_uri": "https://localhost:8080/"
        },
        "id": "uHKxL3p3mLHG",
        "outputId": "2cd98d29-fd89-46f4-9712-e8577ac4b4d8"
      },
      "execution_count": null,
      "outputs": [
        {
          "output_type": "stream",
          "name": "stdout",
          "text": [
            "Union: {'Matematika', 'Bahasa Inggris', 'Algoritma', 'Basis Data'}\n",
            "Intersection: {'Matematika', 'Algoritma'}\n",
            "Differences: {'Bahasa Inggris'}\n"
          ]
        }
      ]
    },
    {
      "cell_type": "markdown",
      "source": [
        "Tugas Studi Kasus Dictionary"
      ],
      "metadata": {
        "id": "ZOpsndtkoTJm"
      }
    },
    {
      "cell_type": "code",
      "source": [
        "# kode untuuk studi kasus dictionary"
      ],
      "metadata": {
        "id": "UGZu0bgCoWpu"
      },
      "execution_count": null,
      "outputs": []
    },
    {
      "cell_type": "code",
      "source": [
        "nilai_mahasiswa = {\n",
        "    \"Andi\": 85,\n",
        "    \"Budi\": 90,\n",
        "    \"Cici\": 78\n",
        "}\n",
        "\n",
        "for nama, nilai in nilai_mahasiswa.items():\n",
        "  print(f\"{nama}: {nilai}\")\n",
        "\n",
        "rata = sum(nilai_mahasiswa.values()) / len(nilai_mahasiswa)\n",
        "print(f\"Rata-rata nilai: {rata:.2f}\")"
      ],
      "metadata": {
        "colab": {
          "base_uri": "https://localhost:8080/"
        },
        "id": "NI5sQJK6obAq",
        "outputId": "193e177e-395e-4ad2-b1eb-b4ef03c76c04"
      },
      "execution_count": null,
      "outputs": [
        {
          "output_type": "stream",
          "name": "stdout",
          "text": [
            "Andi: 85\n",
            "Budi: 90\n",
            "Cici: 78\n",
            "Rata-rata nilai: 84.33\n"
          ]
        }
      ]
    },
    {
      "cell_type": "markdown",
      "source": [
        "Tugas Kasus Set-Klub Mahasiswa"
      ],
      "metadata": {
        "id": "GK5mQanjpB3s"
      }
    },
    {
      "cell_type": "code",
      "source": [
        "# kode untuk kasus set-klub mahasiswa"
      ],
      "metadata": {
        "id": "Fdztvs-WpSGF"
      },
      "execution_count": null,
      "outputs": []
    },
    {
      "cell_type": "code",
      "source": [
        "klubA = {\"Andi\", \"Budi\", \"Cici\"}\n",
        "klubB = {\"Cici\", \"Deni\", \"Eka\"}\n",
        "\n",
        "print(\"Daftar seluruh anggota:\", klubA | klubB)\n",
        "print(\"Daftar anggota yang ada di dua klub:\", klubA & klubB)\n",
        "print(\"Anggota yang hanya ada di Klub A tetapi tidak di Klub B:\", klubA - klubB)"
      ],
      "metadata": {
        "colab": {
          "base_uri": "https://localhost:8080/"
        },
        "id": "n4Us8RG-pW1m",
        "outputId": "bd4d82c6-f8de-4282-c2e3-74a05c8f48ad"
      },
      "execution_count": null,
      "outputs": [
        {
          "output_type": "stream",
          "name": "stdout",
          "text": [
            "Daftar seluruh anggota: {'Budi', 'Andi', 'Cici', 'Eka', 'Deni'}\n",
            "Daftar anggota yang ada di dua klub: {'Cici'}\n",
            "Anggota yang hanya ada di Klub A tetapi tidak di Klub B: {'Andi', 'Budi'}\n"
          ]
        }
      ]
    }
  ]
}