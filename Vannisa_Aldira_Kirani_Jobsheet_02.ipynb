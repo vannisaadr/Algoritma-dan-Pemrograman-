{
  "nbformat": 4,
  "nbformat_minor": 0,
  "metadata": {
    "colab": {
      "provenance": []
    },
    "kernelspec": {
      "name": "python3",
      "display_name": "Python 3"
    },
    "language_info": {
      "name": "python"
    }
  },
  "cells": [
    {
      "cell_type": "markdown",
      "source": [
        "Praktikum 01 – Pengenalan Variabel dan Tipe Data"
      ],
      "metadata": {
        "id": "z73o8J3fm5yu"
      }
    },
    {
      "cell_type": "code",
      "execution_count": null,
      "metadata": {
        "id": "Cf92xBSymShs"
      },
      "outputs": [],
      "source": [
        "# kode untuk praktikum 01"
      ]
    },
    {
      "cell_type": "code",
      "source": [
        "# Integer\n",
        "umur = 20\n",
        "print(\"Umur:\", umur, \"→\", type(umur))\n",
        "\n",
        "# Float\n",
        "tinggi = 170.5\n",
        "print(\"Tinggi:\", tinggi, \"→\", type(tinggi))\n",
        "\n",
        "# String\n",
        "nama = \"Andi\"\n",
        "print(\"Nama:\", nama, \"→\", type(nama))\n",
        "\n",
        "# Boolean\n",
        "is_mahasiswa = True\n",
        "print(\"Status Mahasiswa:\", is_mahasiswa, \"→\", type(is_mahasiswa))\n",
        "\n",
        "# List\n",
        "nilai = [80, 85, 90]\n",
        "print(\"Nilai:\", nilai, \"→\", type(nilai))\n",
        "\n",
        "# Tuple\n",
        "koordinat = (10, 20)\n",
        "print(\"Koordinat:\", koordinat, \"→\", type(koordinat))\n",
        "\n",
        "# Dictionary\n",
        "mahasiswa = {\"nama\": \"Andi\", \"umur\": 20, \"prodi\": \"TRK\"}\n",
        "print(\"Data Mahasiswa:\", mahasiswa, \"→\", type(mahasiswa))\n",
        "\n",
        "# Set\n",
        "hobi = {\"membaca\", \"olahraga\", \"musik\"}\n",
        "print(\"Hobi:\", hobi, \"→\", type(hobi))\n"
      ],
      "metadata": {
        "id": "W6palHuinZoF",
        "colab": {
          "base_uri": "https://localhost:8080/"
        },
        "outputId": "60474a83-564d-4c54-e3ef-f97158875212"
      },
      "execution_count": null,
      "outputs": [
        {
          "output_type": "stream",
          "name": "stdout",
          "text": [
            "Umur: 20 → <class 'int'>\n",
            "Tinggi: 170.5 → <class 'float'>\n",
            "Nama: Andi → <class 'str'>\n",
            "Status Mahasiswa: True → <class 'bool'>\n",
            "Nilai: [80, 85, 90] → <class 'list'>\n",
            "Koordinat: (10, 20) → <class 'tuple'>\n",
            "Data Mahasiswa: {'nama': 'Andi', 'umur': 20, 'prodi': 'TRK'} → <class 'dict'>\n",
            "Hobi: {'membaca', 'musik', 'olahraga'} → <class 'set'>\n"
          ]
        }
      ]
    },
    {
      "cell_type": "markdown",
      "source": [
        "Praktikum 02 - Input dan Output Dasar"
      ],
      "metadata": {
        "id": "xw86eHh4bTNg"
      }
    },
    {
      "cell_type": "code",
      "source": [
        "# kode untuk praktikum 02"
      ],
      "metadata": {
        "id": "PFPlU0w8nm7w"
      },
      "execution_count": null,
      "outputs": []
    },
    {
      "cell_type": "code",
      "source": [
        "# Input string\n",
        "nama = input(\"Masukkan nama Anda: \")\n",
        "\n",
        "# Input integer\n",
        "umur = int(input(\"Masukkan umur Anda: \"))\n",
        "\n",
        "# Input float\n",
        "tinggi = float(input(\"Masukkan tinggi badan (cm): \"))\n",
        "\n",
        "# Output standar\n",
        "print(\"Halo,\", nama, \"umur Anda:\", umur, \"tahun, tinggi:\", tinggi, \"cm\")\n",
        "\n",
        "# Output dengan format()\n",
        "print(\"Halo {0}, umur Anda {1} tahun, tinggi {2} cm\".format(nama, umur, tinggi))\n",
        "\n",
        "# Output dengan f-string\n",
        "print(f\"Halo {nama}, umur Anda {umur} tahun, tinggi {tinggi} cm\")"
      ],
      "metadata": {
        "colab": {
          "base_uri": "https://localhost:8080/"
        },
        "id": "IRPiUczDbk3d",
        "outputId": "c5599237-2d0a-420c-8ad3-8d4874995263"
      },
      "execution_count": null,
      "outputs": [
        {
          "output_type": "stream",
          "name": "stdout",
          "text": [
            "Masukkan nama Anda: Vannisa\n",
            "Masukkan umur Anda: 19\n",
            "Masukkan tinggi badan (cm): 156\n",
            "Halo, Vannisa umur Anda: 19 tahun, tinggi: 156.0 cm\n",
            "Halo Vannisa, umur Anda 19 tahun, tinggi 156.0 cm\n",
            "Halo Vannisa, umur Anda 19 tahun, tinggi 156.0 cm\n"
          ]
        }
      ]
    },
    {
      "cell_type": "markdown",
      "source": [
        "Praktikum 03 - Operator Aritmatika"
      ],
      "metadata": {
        "id": "cQC_Nlmed7NN"
      }
    },
    {
      "cell_type": "code",
      "source": [
        "# kode untuk praktikum 03"
      ],
      "metadata": {
        "id": "w8QJ7WxxeAZE"
      },
      "execution_count": null,
      "outputs": []
    },
    {
      "cell_type": "code",
      "source": [
        "a = 15\n",
        "b = 4\n",
        "\n",
        "print (\"a + b =\", a + b)\n",
        "print (\"a - b =\", a - b)\n",
        "print (\"a * b =\", a * b)\n",
        "print (\"a / b =\", a / b)\n",
        "print (\"a // b =\", a // b)\n",
        "print (\"a % b =\", a % b)\n",
        "print (\"a ** b =\", a ** b)"
      ],
      "metadata": {
        "colab": {
          "base_uri": "https://localhost:8080/"
        },
        "id": "DxG1HFtxeVIE",
        "outputId": "88488e9e-26a5-41a1-8b2b-f9ec6b7454d8"
      },
      "execution_count": null,
      "outputs": [
        {
          "output_type": "stream",
          "name": "stdout",
          "text": [
            "a + b = 19\n",
            "a - b = 11\n",
            "a * b = 60\n",
            "a / b = 3.75\n",
            "a // b = 3\n",
            "a % b = 3\n",
            "a ** b = 50625\n"
          ]
        }
      ]
    },
    {
      "cell_type": "markdown",
      "source": [
        "Praktikum 04 - Operator Relasional"
      ],
      "metadata": {
        "id": "t8mOg9T8ghWc"
      }
    },
    {
      "cell_type": "code",
      "source": [
        "# kode untuk praktikum 04"
      ],
      "metadata": {
        "id": "ZBr92dJ9gqzq"
      },
      "execution_count": null,
      "outputs": []
    },
    {
      "cell_type": "code",
      "source": [
        "x = 10\n",
        "y = 20\n",
        "\n",
        "print(\"x == y :\", x == y)\n",
        "print(\"x != y :\", x != y)\n",
        "print(\"x < y :\", x < y)\n",
        "print(\"x > y :\", x > y)\n",
        "print(\"x <= y :\", x <= y)\n",
        "print(\"x >= y :\", x >= y)"
      ],
      "metadata": {
        "colab": {
          "base_uri": "https://localhost:8080/"
        },
        "id": "vDR3LwlVgwEj",
        "outputId": "f89e5768-4dcd-4936-bdd4-40a071b49e05"
      },
      "execution_count": null,
      "outputs": [
        {
          "output_type": "stream",
          "name": "stdout",
          "text": [
            "x == y : False\n",
            "x != y : True\n",
            "x < y : True\n",
            "x > y : False\n",
            "x <= y : True\n",
            "x >= y : False\n"
          ]
        }
      ]
    },
    {
      "cell_type": "markdown",
      "source": [
        "Praktikum 05 - Operator Logika dengan Studi Kasus  Nyata"
      ],
      "metadata": {
        "id": "1zQOFM2nh5yC"
      }
    },
    {
      "cell_type": "code",
      "source": [
        "# kode untuk praktikum 05"
      ],
      "metadata": {
        "id": "lzRuTRTEiMB6"
      },
      "execution_count": null,
      "outputs": []
    },
    {
      "cell_type": "code",
      "source": [
        "# Operator logika dasar\n",
        "a = True\n",
        "b = False\n",
        "\n",
        "print(\"a and b =\", a and b)\n",
        "print(\"a or b  =\", a or b)\n",
        "print(\"not a   =\", not a)\n",
        "\n",
        "#Studi kasus nyata: kelulusan\n",
        "nilai = int(input(\"Masukan nilai ujian: \"))\n",
        "hadir = int(input(\"Masukan jumlah kehadiran: \"))\n",
        "\n",
        "lulus_nilai = nilai >=  60\n",
        "lulus_hadir = hadir >= 12 # dari 16 pertemuan\n",
        "\n",
        "if lulus_nilai and lulus_hadir:\n",
        "  print(\"Satus: LULUS\")\n",
        "else:\n",
        "  print(\"Status: TIDAK LULUS\")"
      ],
      "metadata": {
        "colab": {
          "base_uri": "https://localhost:8080/"
        },
        "id": "Xbb63tPgh_na",
        "outputId": "dfb4ab44-9230-4ea7-d0cc-d87a8163d2d8"
      },
      "execution_count": null,
      "outputs": [
        {
          "output_type": "stream",
          "name": "stdout",
          "text": [
            "a and b = False\n",
            "a or b  = True\n",
            "not a   = False\n",
            "Masukan nilai ujian: 100\n",
            "Masukan jumlah kehadiran: 16\n",
            "Satus: LULUS\n"
          ]
        }
      ]
    },
    {
      "cell_type": "markdown",
      "source": [
        "Praktikum 06 - Program Kasir Sederhana"
      ],
      "metadata": {
        "id": "EqdUzRKFkM0b"
      }
    },
    {
      "cell_type": "code",
      "source": [
        "# kode untuk praktikum 06"
      ],
      "metadata": {
        "id": "0XsJJ6CfkYu6"
      },
      "execution_count": null,
      "outputs": []
    },
    {
      "cell_type": "code",
      "source": [
        "# Input data\n",
        "barang = input(\"Nama barang: \")\n",
        "harga = int(input(\"Harga barang: \"))\n",
        "jumlah = int(input(\"Jumlah barang: \"))\n",
        "\n",
        "# Hitung total\n",
        "total = harga * jumlah\n",
        "\n",
        "# Aturan diskon\n",
        "if total >= 500000:\n",
        "  diskon = 0.2\n",
        "elif total >= 250000:\n",
        "  diskon = 0.1\n",
        "else:\n",
        "  diskon = 0\n",
        "\n",
        "#Hitung potongan dan total bayar\n",
        "potongan = total * diskon\n",
        "bayar = total - potongan\n",
        "\n",
        "print(\"\\n===== Struk Belanja =====\")\n",
        "print(f\"Barang : {barang}\")\n",
        "print(f\"Jumlah : {jumlah}\")\n",
        "print(f\"Total : Rp {total}\")\n",
        "print(f\"Diskon : {diskon * 100}%\")\n",
        "print(f\"Bayar : Rp {bayar}\")"
      ],
      "metadata": {
        "colab": {
          "base_uri": "https://localhost:8080/"
        },
        "id": "FcW1LibIkdMh",
        "outputId": "209cab0e-1d54-4ec5-c38b-7732d2212b39"
      },
      "execution_count": null,
      "outputs": [
        {
          "output_type": "stream",
          "name": "stdout",
          "text": [
            "Nama barang: Baju\n",
            "Harga barang: 300000\n",
            "Jumlah barang: 3\n",
            "\n",
            "===== Struk Belanja =====\n",
            "Barang : Baju\n",
            "Jumlah : 3\n",
            "Total : Rp 900000\n",
            "Diskon : 20.0%\n",
            "Bayar : Rp 720000.0\n"
          ]
        }
      ]
    },
    {
      "cell_type": "markdown",
      "source": [
        "Tugas Identitas Mahasiswa"
      ],
      "metadata": {
        "id": "r4wNhWIf0h3h"
      }
    },
    {
      "cell_type": "code",
      "source": [
        "# kode untuk tugas identitas mahasiswa"
      ],
      "metadata": {
        "id": "TRdCCmU90oEg"
      },
      "execution_count": null,
      "outputs": []
    },
    {
      "cell_type": "code",
      "source": [
        "nama = (input(\"Masukkan nama Anda: \"))\n",
        "umur = int(input(\"Masukkan umur Anda: \"))\n",
        "tinggi = float(input(\"Masukkan tinggi badan (cm): \"))\n",
        "status_aktif = True\n",
        "\n",
        "print(\"\\n===Identitas Mahasiswa===\")\n",
        "print(f\"Nama         : {nama}\")\n",
        "print(f\"Umur         : {umur} tahun\")\n",
        "print(f\"Tinggi Badan : {tinggi} cm\")\n",
        "print(f\"Status Aktif : {\"Aktif\" if status_aktif else \"Tidak Aktif\"}\")"
      ],
      "metadata": {
        "colab": {
          "base_uri": "https://localhost:8080/"
        },
        "id": "pEJsWbeO0r3R",
        "outputId": "98e3ee2f-ff96-4584-88ee-180885d8eb36"
      },
      "execution_count": 9,
      "outputs": [
        {
          "output_type": "stream",
          "name": "stdout",
          "text": [
            "Masukkan nama Anda: Vannisa\n",
            "Masukkan umur Anda: 19\n",
            "Masukkan tinggi badan (cm): 156\n",
            "\n",
            "===Identitas Mahasiswa===\n",
            "Nama         : Vannisa\n",
            "Umur         : 19 tahun\n",
            "Tinggi Badan : 156.0 cm\n",
            "Status Aktif : Aktif\n"
          ]
        }
      ]
    },
    {
      "cell_type": "markdown",
      "source": [
        "Tugas Operasi Aritmatika"
      ],
      "metadata": {
        "id": "LrZUbTJ6-Ths"
      }
    },
    {
      "cell_type": "code",
      "source": [
        "# kode untuk tugas operasi aritmatika"
      ],
      "metadata": {
        "id": "La034N2c-XDM"
      },
      "execution_count": null,
      "outputs": []
    },
    {
      "cell_type": "code",
      "source": [
        "a = int(input(\"Masukkan bilangan pertama: \"))\n",
        "b = int(input(\"Masukkan bilangan kedua  : \"))\n",
        "\n",
        "print(\"\\n=== Hasil Operasi Aritmatika ===\")\n",
        "print(\"a + b  =\", a + b)\n",
        "print(\"a - b  =\", a - b)\n",
        "print(\"a * b  =\", a * b)\n",
        "print(\"a / b  =\", a / b)\n",
        "print(\"a % b  =\", a % b)\n",
        "print(\"a ** b =\", a ** b)"
      ],
      "metadata": {
        "colab": {
          "base_uri": "https://localhost:8080/"
        },
        "id": "VqTf9zGN-cOk",
        "outputId": "e5e89a83-bb57-47dc-b108-d6d616b8090e"
      },
      "execution_count": 7,
      "outputs": [
        {
          "output_type": "stream",
          "name": "stdout",
          "text": [
            "Masukkan bilangan pertama: 7\n",
            "Masukkan bilangan kedua  : 4\n",
            "\n",
            "=== Hasil Operasi Aritmatika ===\n",
            "a + b  = 11\n",
            "a - b  = 3\n",
            "a * b  = 28\n",
            "a / b  = 1.75\n",
            "a % b  = 3\n",
            "a ** b = 2401\n"
          ]
        }
      ]
    },
    {
      "cell_type": "markdown",
      "source": [
        "Tugas Konversi Nilai"
      ],
      "metadata": {
        "id": "mAApJzZ1Ayd8"
      }
    },
    {
      "cell_type": "code",
      "source": [
        "# kode untuk tugas konversi nilai"
      ],
      "metadata": {
        "id": "AFmZdprRA1LL"
      },
      "execution_count": null,
      "outputs": []
    },
    {
      "cell_type": "code",
      "source": [
        "angka = float(input(\"Masukkan angka desimal: \"))\n",
        "\n",
        "angka_int   = int(angka)\n",
        "angka_str   = str(angka)\n",
        "angka_bulat = round(angka, 2)\n",
        "\n",
        "print(\"\\n=== Hasil Konversi Nilai ===\")\n",
        "print(f\"Nilai asli        : {angka}\")\n",
        "print(f\"Bentuk integer    : {angka_int}\")\n",
        "print(f\"Bentuk string     : {angka_str}\")\n",
        "print(f\"Hasil pembulatan  : {angka_bulat}\")"
      ],
      "metadata": {
        "colab": {
          "base_uri": "https://localhost:8080/"
        },
        "id": "vNCacueRA4p8",
        "outputId": "6a866f47-3da5-4196-8adf-4539630997e4"
      },
      "execution_count": null,
      "outputs": [
        {
          "output_type": "stream",
          "name": "stdout",
          "text": [
            "Masukkan angka desimal: 7.456\n",
            "\n",
            "=== Hasil Konversi Nilai ===\n",
            "Nilai asli        : 7.456\n",
            "Bentuk integer    : 7\n",
            "Bentuk string     : 7.456\n",
            "Hasil pembulatan  : 7.46\n"
          ]
        }
      ]
    },
    {
      "cell_type": "markdown",
      "source": [
        "Tugas Operator Relasional"
      ],
      "metadata": {
        "id": "6zhnZQDLDbXz"
      }
    },
    {
      "cell_type": "code",
      "source": [
        "# kode untuk tugas operator rasional"
      ],
      "metadata": {
        "id": "OiVUkcg0Di7j"
      },
      "execution_count": null,
      "outputs": []
    },
    {
      "cell_type": "code",
      "source": [
        "x = int(input(\"Masukkan bilangan pertama: \"))\n",
        "y = int(input(\"Masukkan bilangan kedua: \"))\n",
        "\n",
        "print(\"\\n=== Hasil Perbandingan ===\")\n",
        "print(f\"{x} == {y} : {x == y}\")\n",
        "print(f\"{x} != {y} : {x != y}\")\n",
        "print(f\"{x} <  {y} : {x < y}\")\n",
        "print(f\"{x} >  {y} : {x > y}\")\n",
        "print(f\"{x} <= {y} : {x <= y}\")\n",
        "print(f\"{x} >= {y} : {x >= y}\")"
      ],
      "metadata": {
        "colab": {
          "base_uri": "https://localhost:8080/"
        },
        "id": "yY_PsY_0Dn20",
        "outputId": "b223c747-620c-423b-a29c-96b08a405d81"
      },
      "execution_count": 11,
      "outputs": [
        {
          "output_type": "stream",
          "name": "stdout",
          "text": [
            "Masukkan bilangan pertama: 25\n",
            "Masukkan bilangan kedua: 15\n",
            "\n",
            "=== Hasil Perbandingan ===\n",
            "25 == 15 : False\n",
            "25 != 15 : True\n",
            "25 <  15 : False\n",
            "25 >  15 : True\n",
            "25 <= 15 : False\n",
            "25 >= 15 : True\n"
          ]
        }
      ]
    }
  ]
}