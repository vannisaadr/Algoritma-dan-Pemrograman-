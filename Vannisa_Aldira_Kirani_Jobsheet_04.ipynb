{
  "nbformat": 4,
  "nbformat_minor": 0,
  "metadata": {
    "colab": {
      "provenance": []
    },
    "kernelspec": {
      "name": "python3",
      "display_name": "Python 3"
    },
    "language_info": {
      "name": "python"
    }
  },
  "cells": [
    {
      "cell_type": "markdown",
      "source": [
        "Praktikum 01 - Perulangan For dan Range"
      ],
      "metadata": {
        "id": "oc3fVShwg-ZQ"
      }
    },
    {
      "cell_type": "code",
      "execution_count": null,
      "metadata": {
        "id": "jrHQFsaOgziK"
      },
      "outputs": [],
      "source": [
        "# kode untuk praktikum 01"
      ]
    },
    {
      "cell_type": "code",
      "source": [
        "for i in range(1, 6):\n",
        "  print(i)"
      ],
      "metadata": {
        "id": "SxPyX9VChHII",
        "colab": {
          "base_uri": "https://localhost:8080/"
        },
        "outputId": "13396125-540d-4eb4-d7e8-01e92a9b0788"
      },
      "execution_count": null,
      "outputs": [
        {
          "output_type": "stream",
          "name": "stdout",
          "text": [
            "1\n",
            "2\n",
            "3\n",
            "4\n",
            "5\n"
          ]
        }
      ]
    },
    {
      "cell_type": "markdown",
      "source": [
        "Praktikum 02 - While (Hitung Mundur)"
      ],
      "metadata": {
        "id": "GrJSETnOjSKL"
      }
    },
    {
      "cell_type": "code",
      "source": [
        "# kode untuk praktikum 02"
      ],
      "metadata": {
        "id": "4mPRVUYhjXdH"
      },
      "execution_count": null,
      "outputs": []
    },
    {
      "cell_type": "code",
      "source": [
        "n = int(input(\"Masukan angka: \"))\n",
        "while n > 0:\n",
        "  print(n)\n",
        "  n -= 1"
      ],
      "metadata": {
        "colab": {
          "base_uri": "https://localhost:8080/"
        },
        "id": "9xBeAnIujbOK",
        "outputId": "1b8f74b1-34e0-420e-86bd-0e573ce56f86"
      },
      "execution_count": null,
      "outputs": [
        {
          "output_type": "stream",
          "name": "stdout",
          "text": [
            "Masukan angka: 5\n",
            "5\n",
            "4\n",
            "3\n",
            "2\n",
            "1\n"
          ]
        }
      ]
    },
    {
      "cell_type": "markdown",
      "source": [
        "Praktikum 03 - Nested Loop (Segitiga Bintang)"
      ],
      "metadata": {
        "id": "mbRfGrPoj6-O"
      }
    },
    {
      "cell_type": "code",
      "source": [
        "# kode untuk praktikum 03"
      ],
      "metadata": {
        "id": "PTbhLeQKjluE"
      },
      "execution_count": null,
      "outputs": []
    },
    {
      "cell_type": "code",
      "source": [
        "for i in range(1, 6):\n",
        "  for j in range(i):\n",
        "    print(\"*\", end=\"\")\n",
        "  print()"
      ],
      "metadata": {
        "colab": {
          "base_uri": "https://localhost:8080/"
        },
        "id": "5a60u8DMkEYx",
        "outputId": "d0569f37-4f8c-4783-974c-4af09f18d537"
      },
      "execution_count": null,
      "outputs": [
        {
          "output_type": "stream",
          "name": "stdout",
          "text": [
            "*\n",
            "**\n",
            "***\n",
            "****\n",
            "*****\n"
          ]
        }
      ]
    },
    {
      "cell_type": "markdown",
      "source": [
        "Praktikum 04 - Break"
      ],
      "metadata": {
        "id": "NPtzTWaplrF_"
      }
    },
    {
      "cell_type": "code",
      "source": [
        "# kode untuk praktikum 04 break"
      ],
      "metadata": {
        "id": "TKVGNTpkluub"
      },
      "execution_count": null,
      "outputs": []
    },
    {
      "cell_type": "code",
      "source": [
        "for i in range(1, 11):\n",
        "  if i == 5:\n",
        "    print(\"Angka 5 ditemukan\")\n",
        "    break"
      ],
      "metadata": {
        "colab": {
          "base_uri": "https://localhost:8080/"
        },
        "id": "ybKK28-llxxM",
        "outputId": "f050a053-3c25-40ab-e9a4-e0b77960b703"
      },
      "execution_count": null,
      "outputs": [
        {
          "output_type": "stream",
          "name": "stdout",
          "text": [
            "Angka 5 ditemukan\n"
          ]
        }
      ]
    },
    {
      "cell_type": "markdown",
      "source": [
        "Praktikum 04 - Continue"
      ],
      "metadata": {
        "id": "9l4qcRkpmBAW"
      }
    },
    {
      "cell_type": "code",
      "source": [
        "# kode untuk praktikum 04 continue"
      ],
      "metadata": {
        "id": "ssLEV5JPmFKk"
      },
      "execution_count": null,
      "outputs": []
    },
    {
      "cell_type": "code",
      "source": [
        "for i in range(1, 6):\n",
        "  if i % 2 == 1:\n",
        "    continue\n",
        "  print(i)"
      ],
      "metadata": {
        "colab": {
          "base_uri": "https://localhost:8080/"
        },
        "id": "2tGLsC2UmHlx",
        "outputId": "fbb4ee69-04b2-43a2-d23f-d005085ca4e3"
      },
      "execution_count": null,
      "outputs": [
        {
          "output_type": "stream",
          "name": "stdout",
          "text": [
            "2\n",
            "4\n"
          ]
        }
      ]
    },
    {
      "cell_type": "markdown",
      "source": [
        "Praktikum 05 - For pada Dictionary"
      ],
      "metadata": {
        "id": "vNb6nFF9mtJA"
      }
    },
    {
      "cell_type": "code",
      "source": [
        "# kode untuk praktikum 05"
      ],
      "metadata": {
        "id": "k53H9Divmw-m"
      },
      "execution_count": null,
      "outputs": []
    },
    {
      "cell_type": "code",
      "source": [
        "data = {\"Nama\": \"Andi\", \"Umur\": 20, \"Prodi\": \"TRK\"}\n",
        "\n",
        "for k, v in data.items():\n",
        "  print(k, \":\", v)"
      ],
      "metadata": {
        "colab": {
          "base_uri": "https://localhost:8080/"
        },
        "id": "LGXtcNE9m0S3",
        "outputId": "a3ae8af6-a9e4-4ab8-ee18-dfbff67fa413"
      },
      "execution_count": null,
      "outputs": [
        {
          "output_type": "stream",
          "name": "stdout",
          "text": [
            "Nama : Andi\n",
            "Umur : 20\n",
            "Prodi : TRK\n"
          ]
        }
      ]
    },
    {
      "cell_type": "markdown",
      "source": [
        "Praktikum 06 - For dengan Enumerate"
      ],
      "metadata": {
        "id": "SEYgwdQvnj6T"
      }
    },
    {
      "cell_type": "code",
      "source": [
        "# kode untuk praktikum 06"
      ],
      "metadata": {
        "id": "vdcMS1W3njmI"
      },
      "execution_count": null,
      "outputs": []
    },
    {
      "cell_type": "code",
      "source": [
        "daftar = [\"Andi\", \"Budi\", \"Cici\"]\n",
        "\n",
        "for i, nama in enumerate(daftar, start=1):\n",
        "  print(i, nama)"
      ],
      "metadata": {
        "colab": {
          "base_uri": "https://localhost:8080/"
        },
        "id": "AsJ_YxZEnsFd",
        "outputId": "950befdd-acde-4f6d-ca20-8753d38d3a0b"
      },
      "execution_count": null,
      "outputs": [
        {
          "output_type": "stream",
          "name": "stdout",
          "text": [
            "1 Andi\n",
            "2 Budi\n",
            "3 Cici\n"
          ]
        }
      ]
    },
    {
      "cell_type": "markdown",
      "source": [
        "Praktikum 07 - Kasir Multi-Item"
      ],
      "metadata": {
        "id": "Otfsx_qZoVni"
      }
    },
    {
      "cell_type": "code",
      "source": [
        "# kode untuk praktikum 07"
      ],
      "metadata": {
        "id": "2P-_6RMEoZvY"
      },
      "execution_count": null,
      "outputs": []
    },
    {
      "cell_type": "code",
      "source": [
        "total = 0\n",
        "\n",
        "while True:\n",
        "  barang = input(\"Masukan nama barang (ketik 'selesai' untuk berhenti): \")\n",
        "  if barang.lower() == \"selesai\":\n",
        "    break\n",
        "  harga = float (input(f\"Masukan harga {barang}: \"))\n",
        "  jumlah = int(input(f\"Masukan jumlah {barang}: \"))\n",
        "  subtotal = harga * jumlah\n",
        "  total += subtotal\n",
        "\n",
        "print(\"\\n===== Struk Belanja =====\")\n",
        "print(f\"Total Belanja : Rp {total}\")"
      ],
      "metadata": {
        "colab": {
          "base_uri": "https://localhost:8080/"
        },
        "id": "aCopySp3oc31",
        "outputId": "5cb042b5-3d70-44de-9bec-7cd9c821b83f"
      },
      "execution_count": null,
      "outputs": [
        {
          "output_type": "stream",
          "name": "stdout",
          "text": [
            "Masukan nama barang (ketik 'selesai' untuk berhenti): Buku\n",
            "Masukan harga Buku: 50000\n",
            "Masukan jumlah Buku: 2\n",
            "Masukan nama barang (ketik 'selesai' untuk berhenti): Pulpen\n",
            "Masukan harga Pulpen: 5000\n",
            "Masukan jumlah Pulpen: 3\n",
            "Masukan nama barang (ketik 'selesai' untuk berhenti): selesai\n",
            "\n",
            "===== Struk Belanja =====\n",
            "Total Belanja : Rp 115000.0\n"
          ]
        }
      ]
    },
    {
      "cell_type": "markdown",
      "source": [
        "Tugas Menampilkan Deret Angka"
      ],
      "metadata": {
        "id": "cZoN3E1eQvz7"
      }
    },
    {
      "cell_type": "code",
      "source": [
        "# kode untuk tugas menampilkan deret angka"
      ],
      "metadata": {
        "id": "B26KK7AwQ3L0"
      },
      "execution_count": null,
      "outputs": []
    },
    {
      "cell_type": "code",
      "source": [
        "for i in range(3,31, 3):\n",
        "  print(i)"
      ],
      "metadata": {
        "colab": {
          "base_uri": "https://localhost:8080/"
        },
        "id": "ZHurptPAQ83J",
        "outputId": "ba4c0e81-3823-437f-a935-f1b0663261a1"
      },
      "execution_count": null,
      "outputs": [
        {
          "output_type": "stream",
          "name": "stdout",
          "text": [
            "3\n",
            "6\n",
            "9\n",
            "12\n",
            "15\n",
            "18\n",
            "21\n",
            "24\n",
            "27\n",
            "30\n"
          ]
        }
      ]
    },
    {
      "cell_type": "markdown",
      "source": [
        "Tugas Hitung Faktorial"
      ],
      "metadata": {
        "id": "wCXOrQwTTr7W"
      }
    },
    {
      "cell_type": "code",
      "source": [
        "# kode untuk tugas hitung faktorial"
      ],
      "metadata": {
        "id": "3Wjiw7OYTu7o"
      },
      "execution_count": null,
      "outputs": []
    },
    {
      "cell_type": "code",
      "source": [
        "import math\n",
        "\n",
        "n = int(input(\"Masukan angka: \"))\n",
        "faktorial = 1\n",
        "\n",
        "i = n\n",
        "while i > 0:\n",
        "  faktorial *= i\n",
        "  i -= 1\n",
        "\n",
        "print(f\"Hasil faktorial = {faktorial}\")"
      ],
      "metadata": {
        "colab": {
          "base_uri": "https://localhost:8080/"
        },
        "id": "9HIr1vsuTyOg",
        "outputId": "c3332bfc-50a8-4fee-ef07-3e750622f6ce"
      },
      "execution_count": null,
      "outputs": [
        {
          "output_type": "stream",
          "name": "stdout",
          "text": [
            "Masukan angka: 5\n",
            "Hasil faktorial = 120\n"
          ]
        }
      ]
    },
    {
      "cell_type": "markdown",
      "source": [
        "Tugas Pola Segitiga Terbalik"
      ],
      "metadata": {
        "id": "gttTzFn4VXO2"
      }
    },
    {
      "cell_type": "code",
      "source": [
        "# kode untuk tugas pola segitiga terbalik"
      ],
      "metadata": {
        "id": "xBY545UDVa_h"
      },
      "execution_count": null,
      "outputs": []
    },
    {
      "cell_type": "code",
      "source": [
        "for i in range(5, 0, -1):\n",
        "  for j in range(i):\n",
        "    print(\"*\", end=\"\")\n",
        "  print()"
      ],
      "metadata": {
        "colab": {
          "base_uri": "https://localhost:8080/"
        },
        "id": "YbrMK7IWVebQ",
        "outputId": "c666cc05-c210-48f5-f69f-d31644cf3738"
      },
      "execution_count": null,
      "outputs": [
        {
          "output_type": "stream",
          "name": "stdout",
          "text": [
            "*****\n",
            "****\n",
            "***\n",
            "**\n",
            "*\n"
          ]
        }
      ]
    },
    {
      "cell_type": "markdown",
      "source": [
        "Tugas Bilangan Prima dengan Break"
      ],
      "metadata": {
        "id": "Hfdgy_V_htMT"
      }
    },
    {
      "cell_type": "code",
      "source": [
        "# kode untuk tugas bilangan prima dengan break"
      ],
      "metadata": {
        "id": "0hhdPbgOhwhY"
      },
      "execution_count": null,
      "outputs": []
    },
    {
      "cell_type": "code",
      "source": [
        "n = int(input(\"Masukkan bilangan: \"))\n",
        "if n > 1:\n",
        "    for i in range(2, n):\n",
        "        if n % i == 0:\n",
        "            print(f\"{n} bukan bilangan prima\")\n",
        "            break\n",
        "    else:\n",
        "        print(f\"{n} adalah bilangan prima\")\n",
        "else:\n",
        "    print(f\"{n} bukan bilangan prima\")"
      ],
      "metadata": {
        "colab": {
          "base_uri": "https://localhost:8080/"
        },
        "id": "3LUopwPIh0-P",
        "outputId": "05f12f09-b775-4a60-fd60-fedb27ac822d"
      },
      "execution_count": 2,
      "outputs": [
        {
          "output_type": "stream",
          "name": "stdout",
          "text": [
            "Masukkan bilangan: 7\n",
            "7 adalah bilangan prima\n"
          ]
        }
      ]
    },
    {
      "cell_type": "markdown",
      "source": [
        "Tugas Tampilkan Hanya Bilangan Genap dengan Continue"
      ],
      "metadata": {
        "id": "uJHdmmqEsRnG"
      }
    },
    {
      "cell_type": "code",
      "source": [
        "# kode untuk tugas hanya tampilkan hanya bilangan genap dengan continue"
      ],
      "metadata": {
        "id": "pwK3ea68sWOv"
      },
      "execution_count": null,
      "outputs": []
    },
    {
      "cell_type": "code",
      "source": [
        "for i in range(1, 21):\n",
        "  if i % 2 == 1:\n",
        "    continue\n",
        "  print(i)"
      ],
      "metadata": {
        "colab": {
          "base_uri": "https://localhost:8080/"
        },
        "id": "YPfge0_Ysomf",
        "outputId": "a2ba6449-f8d3-4dec-f82d-32608f5c42d1"
      },
      "execution_count": null,
      "outputs": [
        {
          "output_type": "stream",
          "name": "stdout",
          "text": [
            "2\n",
            "4\n",
            "6\n",
            "8\n",
            "10\n",
            "12\n",
            "14\n",
            "16\n",
            "18\n",
            "20\n"
          ]
        }
      ]
    },
    {
      "cell_type": "markdown",
      "source": [
        "Tugas Iterasi Dictionary Mahasiswa"
      ],
      "metadata": {
        "id": "XCdB1tD1tmeA"
      }
    },
    {
      "cell_type": "code",
      "source": [
        "# kode untuk tugas iterasi dictionary mahasiswa"
      ],
      "metadata": {
        "id": "Bbk5MSGbtqtW"
      },
      "execution_count": null,
      "outputs": []
    },
    {
      "cell_type": "code",
      "source": [
        "mahasiswa = {\"Nama\": \"Budi\", \"Umur\": 21, \"Prodi\": \"Teknik Komputer\"}\n",
        "\n",
        "for k, v in mahasiswa.items():\n",
        "  print(k, \":\", v)"
      ],
      "metadata": {
        "colab": {
          "base_uri": "https://localhost:8080/"
        },
        "id": "xsc-Cujctu9m",
        "outputId": "df54642a-18eb-4cf9-91b1-8eb41cd7a4a0"
      },
      "execution_count": 1,
      "outputs": [
        {
          "output_type": "stream",
          "name": "stdout",
          "text": [
            "Nama : Budi\n",
            "Umur : 21\n",
            "Prodi : Teknik Komputer\n"
          ]
        }
      ]
    },
    {
      "cell_type": "markdown",
      "source": [
        "Tugas Enumerate Daftar Barang"
      ],
      "metadata": {
        "id": "A2wN1RUDvipq"
      }
    },
    {
      "cell_type": "code",
      "source": [
        "# kode untuk tugas enumerate daftar barang"
      ],
      "metadata": {
        "id": "Wgr1Vg1pvmwX"
      },
      "execution_count": null,
      "outputs": []
    },
    {
      "cell_type": "code",
      "source": [
        "daftar_barang = [\"Buku\", \"Pulpen\", \"Tas\"]\n",
        "\n",
        "for i, barang in enumerate (daftar_barang, start=1):\n",
        "  print(i, barang)"
      ],
      "metadata": {
        "colab": {
          "base_uri": "https://localhost:8080/"
        },
        "id": "NNdWRJJevt44",
        "outputId": "c548e234-9a85-409f-da9f-4c0b1bbcd186"
      },
      "execution_count": null,
      "outputs": [
        {
          "output_type": "stream",
          "name": "stdout",
          "text": [
            "1 Buku\n",
            "2 Pulpen\n",
            "3 Tas\n"
          ]
        }
      ]
    },
    {
      "cell_type": "markdown",
      "source": [
        "Tugas Studi Kasus - Kasir Diskon"
      ],
      "metadata": {
        "id": "QJCPgVD7xZP4"
      }
    },
    {
      "cell_type": "code",
      "source": [
        "#k kode untuk tugas studi kasus - kasir diskon"
      ],
      "metadata": {
        "id": "nsmQqGO9xcvW"
      },
      "execution_count": null,
      "outputs": []
    },
    {
      "cell_type": "code",
      "source": [
        "total = 0\n",
        "\n",
        "while True:\n",
        "  barang = input(\"Masukan nama barang (ketik 'selesai' untuk berhenti): \")\n",
        "  if barang.lower() == \"selesai\":\n",
        "    break\n",
        "  harga = float (input(f\"Masukan harga {barang}: \"))\n",
        "  jumlah = int(input(f\"Masukan jumlah {barang}: \"))\n",
        "  subtotal = harga * jumlah\n",
        "  total += subtotal\n",
        "\n",
        "if total >= 200000:\n",
        "    diskon = 0.1\n",
        "else:\n",
        "    diskon = 0\n",
        "\n",
        "potongan = total * diskon\n",
        "bayar = total - potongan\n",
        "\n",
        "print(\"\\n===== Struk Belanja =====\")\n",
        "print(f\"Total Belanja : Rp {total}\")\n",
        "print(f\"Diskon : Rp {potongan}\")\n",
        "print(f\"Bayar : Rp {bayar}\")"
      ],
      "metadata": {
        "colab": {
          "base_uri": "https://localhost:8080/"
        },
        "id": "BWgByA1HxouH",
        "outputId": "b349f6f5-968e-468b-f9f7-a28a428420da"
      },
      "execution_count": null,
      "outputs": [
        {
          "output_type": "stream",
          "name": "stdout",
          "text": [
            "Masukan nama barang (ketik 'selesai' untuk berhenti): Tas\n",
            "Masukan harga Tas: 50000\n",
            "Masukan jumlah Tas: 2\n",
            "Masukan nama barang (ketik 'selesai' untuk berhenti): Sepatu\n",
            "Masukan harga Sepatu: 200000\n",
            "Masukan jumlah Sepatu: 1\n",
            "Masukan nama barang (ketik 'selesai' untuk berhenti): selesai\n",
            "\n",
            "===== Struk Belanja =====\n",
            "Total Belanja : Rp 300000.0\n",
            "Diskon : Rp 30000.0\n",
            "Bayar : Rp 270000.0\n"
          ]
        }
      ]
    }
  ]
}